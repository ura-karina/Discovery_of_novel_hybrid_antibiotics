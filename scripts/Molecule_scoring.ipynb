{
  "nbformat": 4,
  "nbformat_minor": 0,
  "metadata": {
    "colab": {
      "provenance": []
    },
    "kernelspec": {
      "name": "python3",
      "display_name": "Python 3"
    },
    "language_info": {
      "name": "python"
    }
  },
  "cells": [
    {
      "cell_type": "markdown",
      "source": [
        "Dependencies"
      ],
      "metadata": {
        "id": "eseNYbwWfYg_"
      }
    },
    {
      "cell_type": "code",
      "source": [
        "%pip install rdkit"
      ],
      "metadata": {
        "id": "pcql6y4zc_5e",
        "colab": {
          "base_uri": "https://localhost:8080/"
        },
        "outputId": "86ce71a0-4c1c-4b72-caa6-c76d1ab572be"
      },
      "execution_count": null,
      "outputs": [
        {
          "output_type": "stream",
          "name": "stdout",
          "text": [
            "Requirement already satisfied: rdkit in /usr/local/lib/python3.10/dist-packages (2024.3.5)\n",
            "Requirement already satisfied: numpy in /usr/local/lib/python3.10/dist-packages (from rdkit) (1.26.4)\n",
            "Requirement already satisfied: Pillow in /usr/local/lib/python3.10/dist-packages (from rdkit) (10.4.0)\n"
          ]
        }
      ]
    },
    {
      "cell_type": "code",
      "source": [
        "import pandas as pd\n",
        "import numpy as np\n",
        "import matplotlib.pyplot as plt\n",
        "import seaborn as sns"
      ],
      "metadata": {
        "id": "JeGakH-RdB2E"
      },
      "execution_count": null,
      "outputs": []
    },
    {
      "cell_type": "code",
      "source": [
        "#!pip uninstall sklearn-pandas\n",
        "!pip install scikit-learn==1.2.2"
      ],
      "metadata": {
        "colab": {
          "base_uri": "https://localhost:8080/",
          "height": 356
        },
        "id": "iTlGJLNg_yIR",
        "outputId": "62f07642-4d32-4375-95ee-b0f25e6e00b7"
      },
      "execution_count": null,
      "outputs": [
        {
          "output_type": "stream",
          "name": "stdout",
          "text": [
            "Collecting scikit-learn==1.2.2\n",
            "  Downloading scikit_learn-1.2.2-cp310-cp310-manylinux_2_17_x86_64.manylinux2014_x86_64.whl.metadata (11 kB)\n",
            "Requirement already satisfied: numpy>=1.17.3 in /usr/local/lib/python3.10/dist-packages (from scikit-learn==1.2.2) (1.26.4)\n",
            "Requirement already satisfied: scipy>=1.3.2 in /usr/local/lib/python3.10/dist-packages (from scikit-learn==1.2.2) (1.13.1)\n",
            "Requirement already satisfied: joblib>=1.1.1 in /usr/local/lib/python3.10/dist-packages (from scikit-learn==1.2.2) (1.4.2)\n",
            "Requirement already satisfied: threadpoolctl>=2.0.0 in /usr/local/lib/python3.10/dist-packages (from scikit-learn==1.2.2) (3.5.0)\n",
            "Downloading scikit_learn-1.2.2-cp310-cp310-manylinux_2_17_x86_64.manylinux2014_x86_64.whl (9.6 MB)\n",
            "\u001b[2K   \u001b[90m━━━━━━━━━━━━━━━━━━━━━━━━━━━━━━━━━━━━━━━━\u001b[0m \u001b[32m9.6/9.6 MB\u001b[0m \u001b[31m32.2 MB/s\u001b[0m eta \u001b[36m0:00:00\u001b[0m\n",
            "\u001b[?25hInstalling collected packages: scikit-learn\n",
            "  Attempting uninstall: scikit-learn\n",
            "    Found existing installation: scikit-learn 1.5.2\n",
            "    Uninstalling scikit-learn-1.5.2:\n",
            "      Successfully uninstalled scikit-learn-1.5.2\n",
            "Successfully installed scikit-learn-1.2.2\n"
          ]
        },
        {
          "output_type": "display_data",
          "data": {
            "application/vnd.colab-display-data+json": {
              "pip_warning": {
                "packages": [
                  "sklearn"
                ]
              },
              "id": "5908274bef3b48bc81c1244d92de1b83"
            }
          },
          "metadata": {}
        }
      ]
    },
    {
      "cell_type": "markdown",
      "source": [
        "Merge and save"
      ],
      "metadata": {
        "id": "4mtImdSkdIyI"
      }
    },
    {
      "cell_type": "code",
      "source": [
        "import pandas as pd\n",
        "import os\n",
        "\n",
        "file_names = [\n",
        "    '/content/drive/MyDrive/Project/Оценка молекул/Linkers/sample_200_benzimidazole_AB.csv',\n",
        "    '/content/drive/MyDrive/Project/Оценка молекул/Linkers/sample_200_benzimidazole_gyrA.csv',\n",
        "    '/content/drive/MyDrive/Project/Оценка молекул/Linkers/sample_200_benzimidazole_gyrB.csv'\n",
        "]\n",
        "\n",
        "data = []\n",
        "\n",
        "for file_name in file_names:\n",
        "    df = pd.read_csv(file_name)\n",
        "\n",
        "    if not df.empty:\n",
        "        short_file_name = os.path.basename(file_name)\n",
        "\n",
        "        df['file name'] = short_file_name\n",
        "\n",
        "        filtered_rows = []\n",
        "        for _, row in df.iterrows():\n",
        "            try:\n",
        "                int(row['Epoch'])\n",
        "                filtered_rows.append(row)\n",
        "            except ValueError:\n",
        "                pass\n",
        "\n",
        "        filtered_df = pd.DataFrame(filtered_rows)\n",
        "\n",
        "        data.append(filtered_df)\n",
        "    else:\n",
        "        print(f\"Файл {file_name} пуст.\")\n",
        "\n",
        "combined_df = pd.concat(data, ignore_index=True)\n",
        "\n",
        "combined_df = combined_df.drop_duplicates(subset=\"Smiles\")\n",
        "\n",
        "combined_df.to_csv('/content/drive/MyDrive/Project/Оценка молекул/Linkers/combined_sample_200_benzimidazole_gyrases.csv', index=False)"
      ],
      "metadata": {
        "id": "J7AeaHrYdD2c"
      },
      "execution_count": null,
      "outputs": []
    },
    {
      "cell_type": "markdown",
      "source": [
        "Sascore"
      ],
      "metadata": {
        "id": "mODrQtGudTo3"
      }
    },
    {
      "cell_type": "code",
      "source": [
        "from rdkit import Chem\n",
        "from rdkit.Chem import AllChem\n",
        "import sascorer\n",
        "import pandas as pd\n",
        "\n",
        "df = pd.read_csv('/content/drive/MyDrive/Project/Оценка молекул/Linkers/combined_sample_200_benzimidazole_gyrases.csv')\n",
        "\n",
        "\n",
        "def check_sascore(smiles):\n",
        "    \"\"\"Calculates SAScore for a SMILES string\"\"\"\n",
        "    mol = Chem.MolFromSmiles(smiles)\n",
        "    if mol is None:\n",
        "        return None\n",
        "    return sascorer.calculateScore(mol)\n",
        "\n",
        "df['SAScore'] = df['Smiles'].apply(check_sascore)\n",
        "\n",
        "df.to_csv('/content/drive/MyDrive/Project/Оценка молекул/Linkers/combined_sample_200_benzimidazole_gyrases.csv', index=False)"
      ],
      "metadata": {
        "id": "CNr86cdwdTvC"
      },
      "execution_count": null,
      "outputs": []
    },
    {
      "cell_type": "markdown",
      "source": [
        "QED, Lipinski5, Lipinski3"
      ],
      "metadata": {
        "id": "apNibxwqeZAC"
      }
    },
    {
      "cell_type": "code",
      "source": [
        "df = pd.read_csv('/content/drive/MyDrive/Project/Оценка молекул/Linkers/combined_sample_200_benzimidazole_gyrases.csv')\n",
        "\n",
        "import os\n",
        "import numpy as np\n",
        "import pandas as pd\n",
        "from rdkit import Chem\n",
        "from rdkit.Chem import Descriptors, Lipinski\n",
        "\n",
        "\n",
        "def check_qed(mol):\n",
        "    \"\"\"Calculates QED-score.\"\"\"\n",
        "    return Descriptors.qed(mol)\n",
        "\n",
        "def check_lipinski_ro5(mol):\n",
        "    \"\"\"Checks Lipinski's rule of five for drug-like molecules.\"\"\"\n",
        "    return Lipinski.NumHDonors(mol) < 5 and \\\n",
        "           Lipinski.NumHAcceptors(mol) < 10 and \\\n",
        "           Descriptors.MolWt(mol) < 500 and \\\n",
        "           Descriptors.MolLogP(mol) < 5\n",
        "\n",
        "def check_lipinski_ro3(mol):\n",
        "    \"\"\"Checks Lipinski's rule of three for lead-like molecules.\"\"\"\n",
        "    return Lipinski.NumHDonors(mol) < 3 and \\\n",
        "           Lipinski.NumHAcceptors(mol) < 3 and \\\n",
        "           Descriptors.MolWt(mol) < 300 and \\\n",
        "           Descriptors.MolLogP(mol) < 3\n",
        "\n",
        "def process_molecule(smiles):\n",
        "    mol = Chem.MolFromSmiles(smiles)\n",
        "    if mol:\n",
        "        qed_score = check_qed(mol)\n",
        "        lipinski_ro5_pass = check_lipinski_ro5(mol)\n",
        "        lipinski_ro3_pass = check_lipinski_ro3(mol)\n",
        "        return qed_score, lipinski_ro5_pass, lipinski_ro3_pass\n",
        "    else:\n",
        "        return None, None, None\n",
        "\n",
        "df['QED Score'] = None\n",
        "df['Lipinski Ro5 Pass'] = None\n",
        "df['Lipinski Ro3 Pass'] = None\n",
        "\n",
        "for index, row in df.iterrows():\n",
        "    smiles = row['Smiles']\n",
        "    qed_score, lipinski_ro5_pass, lipinski_ro3_pass = process_molecule(smiles)\n",
        "\n",
        "    df.at[index, 'QED Score'] = qed_score\n",
        "    df.at[index, 'Lipinski Ro5 Pass'] = lipinski_ro5_pass\n",
        "    df.at[index, 'Lipinski Ro3 Pass'] = lipinski_ro3_pass\n",
        "\n",
        "df.to_csv('/content/drive/MyDrive/Project/Оценка молекул/Linkers/combined_sample_200_benzimidazole_gyrases.csv', index=False)\n",
        "df.head()"
      ],
      "metadata": {
        "id": "aR6E2GZbeZGf"
      },
      "execution_count": null,
      "outputs": []
    },
    {
      "cell_type": "markdown",
      "source": [
        "Brenk score"
      ],
      "metadata": {
        "id": "35Vtf4FUeosu"
      }
    },
    {
      "cell_type": "code",
      "source": [
        "import pandas as pd\n",
        "from rdkit import Chem\n",
        "from rdkit.Chem.FilterCatalog import FilterCatalog, FilterCatalogParams\n",
        "\n",
        "def check_brenk_toxicity(df, smiles_column='Smiles'):\n",
        "    params_brenk = FilterCatalogParams()\n",
        "    params_brenk.AddCatalog(FilterCatalogParams.FilterCatalogs.BRENK)\n",
        "    catalog_brenk = FilterCatalog(params_brenk)\n",
        "\n",
        "    def is_non_toxic(smiles):\n",
        "        try:\n",
        "            mol = Chem.MolFromSmiles(smiles)\n",
        "            if mol is None:\n",
        "                return False\n",
        "            if catalog_brenk.HasMatch(mol):\n",
        "                return False\n",
        "            return True\n",
        "        except:\n",
        "            return False\n",
        "\n",
        "    df['Brenk Score'] = df[smiles_column].apply(is_non_toxic)\n",
        "\n",
        "    return df"
      ],
      "metadata": {
        "id": "9hre8DMreozk"
      },
      "execution_count": null,
      "outputs": []
    },
    {
      "cell_type": "markdown",
      "source": [
        "MIC"
      ],
      "metadata": {
        "id": "DabWF7LBe17S"
      }
    },
    {
      "cell_type": "code",
      "source": [
        "import pandas as pd\n",
        "import numpy as np\n",
        "import pickle\n",
        "from rdkit import Chem\n",
        "from rdkit.Chem import AllChem\n",
        "from rdkit.DataStructs.cDataStructs import ConvertToNumpyArray\n",
        "\n",
        "with open(\"/content/drive/MyDrive/Project/Оценка молекул/Linkers/benz_model_gb.pkl\", \"rb\") as f:\n",
        "  model = pickle.load(f)\n",
        "\n",
        "def get_fingerprint(mol):\n",
        "    \"\"\"Конвертирует SMILES в отпечаток Morgan размером 256 бит.\"\"\"\n",
        "    fp_array = np.zeros((256,), dtype=np.int8)  # Размер массива для отпечатка Morgan\n",
        "    fp = AllChem.GetMorganFingerprintAsBitVect(mol, 2, nBits=256)  # Размер отпечатка: 256 бит\n",
        "    ConvertToNumpyArray(fp, fp_array)\n",
        "    return fp_array\n",
        "\n",
        "def predict_mic(smiles, model):\n",
        "    \"\"\"Возвращает предсказанный MIC для молекулы.\"\"\"\n",
        "    mol = Chem.MolFromSmiles(smiles)\n",
        "    if mol is None:\n",
        "        return None\n",
        "    fp = get_fingerprint(mol)\n",
        "    mic = model.predict([fp])\n",
        "    return mic[0]\n",
        "\n",
        "df = pd.read_csv(\"/content/drive/MyDrive/Project/Оценка молекул/Linkers/fragment_mols.csv\") # или если датасет уже загружен в df\n",
        "\n",
        "df['Predicted MIC (log)'] = df['Smiles'].apply(lambda x: predict_mic(x, model))\n",
        "df['Predicted MIC'] = 10**df['Predicted MIC (log)']\n",
        "df = df.drop(columns=['Predicted MIC (log)'])\n",
        "\n",
        "df.to_csv(\"/content/drive/MyDrive/Project/Оценка молекул/Linkers/fragment_mols.csv\", index=False)"
      ],
      "metadata": {
        "id": "o8i8CNaWe2C9"
      },
      "execution_count": null,
      "outputs": []
    },
    {
      "cell_type": "markdown",
      "source": [
        "Final scoring script"
      ],
      "metadata": {
        "id": "Xl84FJF_3MI7"
      }
    },
    {
      "cell_type": "code",
      "source": [
        "%pip install rdkit\n",
        "import pandas as pd\n",
        "import numpy as np\n",
        "import os\n",
        "import pickle\n",
        "from rdkit import Chem\n",
        "from rdkit.Chem import AllChem, Descriptors, Lipinski, FilterCatalog, FilterCatalogParams\n",
        "import sascorer\n",
        "\n",
        "\n",
        "with open(\"/content/drive/MyDrive/Project/Оценка молекул/Linkers/benz_model_gb.pkl\", \"rb\") as f:\n",
        "    model = pickle.load(f)\n",
        "\n",
        "def calculate_scores(file_path, output_path):\n",
        "    df = pd.read_csv(file_path)\n",
        "\n",
        "\n",
        "    def calculate_sascore(smiles):\n",
        "        mol = Chem.MolFromSmiles(smiles)\n",
        "        return sascorer.calculateScore(mol) if mol else None\n",
        "\n",
        "    def calculate_descriptors(smiles):\n",
        "        mol = Chem.MolFromSmiles(smiles)\n",
        "        if mol:\n",
        "            qed_score = Descriptors.qed(mol)\n",
        "            ro5_pass = Lipinski.NumHDonors(mol) < 5 and Lipinski.NumHAcceptors(mol) < 10 and \\\n",
        "                       Descriptors.MolWt(mol) < 500 and Descriptors.MolLogP(mol) < 5\n",
        "            ro3_pass = Lipinski.NumHDonors(mol) < 3 and Lipinski.NumHAcceptors(mol) < 3 and \\\n",
        "                       Descriptors.MolWt(mol) < 300 and Descriptors.MolLogP(mol) < 3\n",
        "            return qed_score, ro5_pass, ro3_pass\n",
        "        return None, None, None\n",
        "\n",
        "    def calculate_brenk(smiles):\n",
        "        mol = Chem.MolFromSmiles(smiles)\n",
        "        if mol:\n",
        "            params = FilterCatalogParams()\n",
        "            params.AddCatalog(FilterCatalogParams.FilterCatalogs.BRENK)\n",
        "            catalog = FilterCatalog(params)\n",
        "            return not catalog.HasMatch(mol)\n",
        "        return False\n",
        "\n",
        "    def predict_mic(smiles):\n",
        "        mol = Chem.MolFromSmiles(smiles)\n",
        "        if mol:\n",
        "            fp = np.zeros((256,), dtype=np.int8)\n",
        "            fp_vect = AllChem.GetMorganFingerprintAsBitVect(mol, 2, nBits=256)\n",
        "            AllChem.DataStructs.ConvertToNumpyArray(fp_vect, fp)\n",
        "            mic_log = model.predict([fp])[0]\n",
        "            return mic_log, 10 ** mic_log\n",
        "        return None, None\n",
        "\n",
        "    df['SAScore'] = df['Smiles'].apply(calculate_sascore)\n",
        "    df[['QED Score', 'Lipinski Ro5 Pass', 'Lipinski Ro3 Pass']] = df['Smiles'].apply(\n",
        "        lambda x: pd.Series(calculate_descriptors(x))\n",
        "    )\n",
        "    df['Brenk Score'] = df['Smiles'].apply(calculate_brenk)\n",
        "    df[['Predicted MIC (log)', 'Predicted MIC']] = df['Smiles'].apply(\n",
        "        lambda x: pd.Series(predict_mic(x))\n",
        "    )\n",
        "\n",
        "    df.to_csv(output_path, index=False)\n",
        "    print(f\"Результаты сохранены в {output_path}\")"
      ],
      "metadata": {
        "id": "t1w8vcuA3Mm7"
      },
      "execution_count": null,
      "outputs": []
    }
  ]
}