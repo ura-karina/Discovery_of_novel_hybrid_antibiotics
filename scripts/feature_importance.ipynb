{
  "nbformat": 4,
  "nbformat_minor": 0,
  "metadata": {
    "colab": {
      "provenance": [],
      "collapsed_sections": [
        "DFQjCB3xISRV"
      ]
    },
    "kernelspec": {
      "name": "python3",
      "display_name": "Python 3"
    },
    "language_info": {
      "name": "python"
    }
  },
  "cells": [
    {
      "cell_type": "code",
      "source": [
        "%pip install rdkit --quiet\n",
        "%pip install shapiq -q\n",
        "%pip install shap -q"
      ],
      "metadata": {
        "id": "uJd4K4Ra7NvK"
      },
      "execution_count": null,
      "outputs": []
    },
    {
      "cell_type": "code",
      "execution_count": null,
      "metadata": {
        "id": "yohoQHaO5Tu6"
      },
      "outputs": [],
      "source": [
        "import pandas as pd\n",
        "import pickle\n",
        "from rdkit import Chem\n",
        "from rdkit.Chem import AllChem\n",
        "from rdkit.DataStructs.cDataStructs import ConvertToNumpyArray\n",
        "from rdkit.Chem import Draw, rdDepictor\n",
        "import numpy as np\n",
        "from rdkit import RDLogger\n",
        "RDLogger.DisableLog('rdApp.*')\n",
        "import shapiq\n",
        "import shap"
      ]
    },
    {
      "cell_type": "markdown",
      "source": [
        "## Data"
      ],
      "metadata": {
        "id": "4QkOjZP82XOM"
      }
    },
    {
      "cell_type": "code",
      "source": [
        "df = pd.read_csv('final_dataset.csv')\n",
        "df.head()"
      ],
      "metadata": {
        "colab": {
          "base_uri": "https://localhost:8080/",
          "height": 226
        },
        "id": "lEZ74xbW5U-7",
        "outputId": "e2944495-bffc-46c0-dcb7-d95789c125c5"
      },
      "execution_count": null,
      "outputs": [
        {
          "output_type": "execute_result",
          "data": {
            "text/plain": [
              "                                              smiles                     doi  \\\n",
              "0  O=C(OCC)C1=C(NC(=O)NC1C=2OC=CC2)CN3C=NC=4C=CC=...  10.1002/cjoc.202200326   \n",
              "1  O=C(OCC)C1=C(N(C(=O)N(C1C2=CC=CS2)[H])[H])C[N]...  10.1002/cjoc.202200326   \n",
              "2  O=C(OCC)C1=C(N(C(=O)N(C1C2=C(C=CS2)C)[H])[H])C...  10.1002/cjoc.202200326   \n",
              "3  O=C(OCC)C1=C(N(C(=O)N(C1C2=CC=CS2)[H])[H])C[N]...  10.1002/cjoc.202200326   \n",
              "4  O=C(OCC)C1=C(N(C(=O)N(C1C2=CC=CS2)[H])[H])C[N]...  10.1002/cjoc.202200326   \n",
              "\n",
              "   id                                      group    group_name       MIC  \\\n",
              "0  5a  CCOC(=O)C1=C(CN2C=NC3=C2C=CC=C3)NC(=O)NC1  pyrimidinone  0.262025   \n",
              "1  5b  CCOC(=O)C1=C(CN2C=NC3=C2C=CC=C3)NC(=O)NC1  pyrimidinone  0.125508   \n",
              "2  5c  CCOC(=O)C1=C(CN2C=NC3=C2C=CC=C3)NC(=O)NC1  pyrimidinone  0.121068   \n",
              "3  6a  CCOC(=O)C1=C(CN2C=NC3=C2C=CC=C3)NC(=O)NC1  pyrimidinone  0.086704   \n",
              "4  6b  CCOC(=O)C1=C(CN2C=NC3=C2C=CC=C3)NC(=O)NC1  pyrimidinone  0.056148   \n",
              "\n",
              "      lgMIC                              scaffold  \\\n",
              "0 -0.581657  O=C1NC(Cn2cnc3ccccc32)=CC(c2ccco2)N1   \n",
              "1 -0.901328  O=C1NC(Cn2cnc3ccccc32)=CC(c2cccs2)N1   \n",
              "2 -0.916971  O=C1NC(Cn2cnc3ccccc32)=CC(c2cccs2)N1   \n",
              "3 -1.061962  O=C1NC(Cn2cnc3ccccc32)=CC(c2cccs2)N1   \n",
              "4 -1.250666  O=C1NC(Cn2cnc3ccccc32)=CC(c2cccs2)N1   \n",
              "\n",
              "                                 group_strat  \n",
              "0  CCOC(=O)C1=C(CN2C=NC3=C2C=CC=C3)NC(=O)NC1  \n",
              "1  CCOC(=O)C1=C(CN2C=NC3=C2C=CC=C3)NC(=O)NC1  \n",
              "2  CCOC(=O)C1=C(CN2C=NC3=C2C=CC=C3)NC(=O)NC1  \n",
              "3  CCOC(=O)C1=C(CN2C=NC3=C2C=CC=C3)NC(=O)NC1  \n",
              "4  CCOC(=O)C1=C(CN2C=NC3=C2C=CC=C3)NC(=O)NC1  "
            ],
            "text/html": [
              "\n",
              "  <div id=\"df-cb47f6e8-9fd4-4411-85f1-901abd2c5513\" class=\"colab-df-container\">\n",
              "    <div>\n",
              "<style scoped>\n",
              "    .dataframe tbody tr th:only-of-type {\n",
              "        vertical-align: middle;\n",
              "    }\n",
              "\n",
              "    .dataframe tbody tr th {\n",
              "        vertical-align: top;\n",
              "    }\n",
              "\n",
              "    .dataframe thead th {\n",
              "        text-align: right;\n",
              "    }\n",
              "</style>\n",
              "<table border=\"1\" class=\"dataframe\">\n",
              "  <thead>\n",
              "    <tr style=\"text-align: right;\">\n",
              "      <th></th>\n",
              "      <th>smiles</th>\n",
              "      <th>doi</th>\n",
              "      <th>id</th>\n",
              "      <th>group</th>\n",
              "      <th>group_name</th>\n",
              "      <th>MIC</th>\n",
              "      <th>lgMIC</th>\n",
              "      <th>scaffold</th>\n",
              "      <th>group_strat</th>\n",
              "    </tr>\n",
              "  </thead>\n",
              "  <tbody>\n",
              "    <tr>\n",
              "      <th>0</th>\n",
              "      <td>O=C(OCC)C1=C(NC(=O)NC1C=2OC=CC2)CN3C=NC=4C=CC=...</td>\n",
              "      <td>10.1002/cjoc.202200326</td>\n",
              "      <td>5a</td>\n",
              "      <td>CCOC(=O)C1=C(CN2C=NC3=C2C=CC=C3)NC(=O)NC1</td>\n",
              "      <td>pyrimidinone</td>\n",
              "      <td>0.262025</td>\n",
              "      <td>-0.581657</td>\n",
              "      <td>O=C1NC(Cn2cnc3ccccc32)=CC(c2ccco2)N1</td>\n",
              "      <td>CCOC(=O)C1=C(CN2C=NC3=C2C=CC=C3)NC(=O)NC1</td>\n",
              "    </tr>\n",
              "    <tr>\n",
              "      <th>1</th>\n",
              "      <td>O=C(OCC)C1=C(N(C(=O)N(C1C2=CC=CS2)[H])[H])C[N]...</td>\n",
              "      <td>10.1002/cjoc.202200326</td>\n",
              "      <td>5b</td>\n",
              "      <td>CCOC(=O)C1=C(CN2C=NC3=C2C=CC=C3)NC(=O)NC1</td>\n",
              "      <td>pyrimidinone</td>\n",
              "      <td>0.125508</td>\n",
              "      <td>-0.901328</td>\n",
              "      <td>O=C1NC(Cn2cnc3ccccc32)=CC(c2cccs2)N1</td>\n",
              "      <td>CCOC(=O)C1=C(CN2C=NC3=C2C=CC=C3)NC(=O)NC1</td>\n",
              "    </tr>\n",
              "    <tr>\n",
              "      <th>2</th>\n",
              "      <td>O=C(OCC)C1=C(N(C(=O)N(C1C2=C(C=CS2)C)[H])[H])C...</td>\n",
              "      <td>10.1002/cjoc.202200326</td>\n",
              "      <td>5c</td>\n",
              "      <td>CCOC(=O)C1=C(CN2C=NC3=C2C=CC=C3)NC(=O)NC1</td>\n",
              "      <td>pyrimidinone</td>\n",
              "      <td>0.121068</td>\n",
              "      <td>-0.916971</td>\n",
              "      <td>O=C1NC(Cn2cnc3ccccc32)=CC(c2cccs2)N1</td>\n",
              "      <td>CCOC(=O)C1=C(CN2C=NC3=C2C=CC=C3)NC(=O)NC1</td>\n",
              "    </tr>\n",
              "    <tr>\n",
              "      <th>3</th>\n",
              "      <td>O=C(OCC)C1=C(N(C(=O)N(C1C2=CC=CS2)[H])[H])C[N]...</td>\n",
              "      <td>10.1002/cjoc.202200326</td>\n",
              "      <td>6a</td>\n",
              "      <td>CCOC(=O)C1=C(CN2C=NC3=C2C=CC=C3)NC(=O)NC1</td>\n",
              "      <td>pyrimidinone</td>\n",
              "      <td>0.086704</td>\n",
              "      <td>-1.061962</td>\n",
              "      <td>O=C1NC(Cn2cnc3ccccc32)=CC(c2cccs2)N1</td>\n",
              "      <td>CCOC(=O)C1=C(CN2C=NC3=C2C=CC=C3)NC(=O)NC1</td>\n",
              "    </tr>\n",
              "    <tr>\n",
              "      <th>4</th>\n",
              "      <td>O=C(OCC)C1=C(N(C(=O)N(C1C2=CC=CS2)[H])[H])C[N]...</td>\n",
              "      <td>10.1002/cjoc.202200326</td>\n",
              "      <td>6b</td>\n",
              "      <td>CCOC(=O)C1=C(CN2C=NC3=C2C=CC=C3)NC(=O)NC1</td>\n",
              "      <td>pyrimidinone</td>\n",
              "      <td>0.056148</td>\n",
              "      <td>-1.250666</td>\n",
              "      <td>O=C1NC(Cn2cnc3ccccc32)=CC(c2cccs2)N1</td>\n",
              "      <td>CCOC(=O)C1=C(CN2C=NC3=C2C=CC=C3)NC(=O)NC1</td>\n",
              "    </tr>\n",
              "  </tbody>\n",
              "</table>\n",
              "</div>\n",
              "    <div class=\"colab-df-buttons\">\n",
              "\n",
              "  <div class=\"colab-df-container\">\n",
              "    <button class=\"colab-df-convert\" onclick=\"convertToInteractive('df-cb47f6e8-9fd4-4411-85f1-901abd2c5513')\"\n",
              "            title=\"Convert this dataframe to an interactive table.\"\n",
              "            style=\"display:none;\">\n",
              "\n",
              "  <svg xmlns=\"http://www.w3.org/2000/svg\" height=\"24px\" viewBox=\"0 -960 960 960\">\n",
              "    <path d=\"M120-120v-720h720v720H120Zm60-500h600v-160H180v160Zm220 220h160v-160H400v160Zm0 220h160v-160H400v160ZM180-400h160v-160H180v160Zm440 0h160v-160H620v160ZM180-180h160v-160H180v160Zm440 0h160v-160H620v160Z\"/>\n",
              "  </svg>\n",
              "    </button>\n",
              "\n",
              "  <style>\n",
              "    .colab-df-container {\n",
              "      display:flex;\n",
              "      gap: 12px;\n",
              "    }\n",
              "\n",
              "    .colab-df-convert {\n",
              "      background-color: #E8F0FE;\n",
              "      border: none;\n",
              "      border-radius: 50%;\n",
              "      cursor: pointer;\n",
              "      display: none;\n",
              "      fill: #1967D2;\n",
              "      height: 32px;\n",
              "      padding: 0 0 0 0;\n",
              "      width: 32px;\n",
              "    }\n",
              "\n",
              "    .colab-df-convert:hover {\n",
              "      background-color: #E2EBFA;\n",
              "      box-shadow: 0px 1px 2px rgba(60, 64, 67, 0.3), 0px 1px 3px 1px rgba(60, 64, 67, 0.15);\n",
              "      fill: #174EA6;\n",
              "    }\n",
              "\n",
              "    .colab-df-buttons div {\n",
              "      margin-bottom: 4px;\n",
              "    }\n",
              "\n",
              "    [theme=dark] .colab-df-convert {\n",
              "      background-color: #3B4455;\n",
              "      fill: #D2E3FC;\n",
              "    }\n",
              "\n",
              "    [theme=dark] .colab-df-convert:hover {\n",
              "      background-color: #434B5C;\n",
              "      box-shadow: 0px 1px 3px 1px rgba(0, 0, 0, 0.15);\n",
              "      filter: drop-shadow(0px 1px 2px rgba(0, 0, 0, 0.3));\n",
              "      fill: #FFFFFF;\n",
              "    }\n",
              "  </style>\n",
              "\n",
              "    <script>\n",
              "      const buttonEl =\n",
              "        document.querySelector('#df-cb47f6e8-9fd4-4411-85f1-901abd2c5513 button.colab-df-convert');\n",
              "      buttonEl.style.display =\n",
              "        google.colab.kernel.accessAllowed ? 'block' : 'none';\n",
              "\n",
              "      async function convertToInteractive(key) {\n",
              "        const element = document.querySelector('#df-cb47f6e8-9fd4-4411-85f1-901abd2c5513');\n",
              "        const dataTable =\n",
              "          await google.colab.kernel.invokeFunction('convertToInteractive',\n",
              "                                                    [key], {});\n",
              "        if (!dataTable) return;\n",
              "\n",
              "        const docLinkHtml = 'Like what you see? Visit the ' +\n",
              "          '<a target=\"_blank\" href=https://colab.research.google.com/notebooks/data_table.ipynb>data table notebook</a>'\n",
              "          + ' to learn more about interactive tables.';\n",
              "        element.innerHTML = '';\n",
              "        dataTable['output_type'] = 'display_data';\n",
              "        await google.colab.output.renderOutput(dataTable, element);\n",
              "        const docLink = document.createElement('div');\n",
              "        docLink.innerHTML = docLinkHtml;\n",
              "        element.appendChild(docLink);\n",
              "      }\n",
              "    </script>\n",
              "  </div>\n",
              "\n",
              "\n",
              "<div id=\"df-b41bab5e-1c62-400b-80e2-0c58bafa8b42\">\n",
              "  <button class=\"colab-df-quickchart\" onclick=\"quickchart('df-b41bab5e-1c62-400b-80e2-0c58bafa8b42')\"\n",
              "            title=\"Suggest charts\"\n",
              "            style=\"display:none;\">\n",
              "\n",
              "<svg xmlns=\"http://www.w3.org/2000/svg\" height=\"24px\"viewBox=\"0 0 24 24\"\n",
              "     width=\"24px\">\n",
              "    <g>\n",
              "        <path d=\"M19 3H5c-1.1 0-2 .9-2 2v14c0 1.1.9 2 2 2h14c1.1 0 2-.9 2-2V5c0-1.1-.9-2-2-2zM9 17H7v-7h2v7zm4 0h-2V7h2v10zm4 0h-2v-4h2v4z\"/>\n",
              "    </g>\n",
              "</svg>\n",
              "  </button>\n",
              "\n",
              "<style>\n",
              "  .colab-df-quickchart {\n",
              "      --bg-color: #E8F0FE;\n",
              "      --fill-color: #1967D2;\n",
              "      --hover-bg-color: #E2EBFA;\n",
              "      --hover-fill-color: #174EA6;\n",
              "      --disabled-fill-color: #AAA;\n",
              "      --disabled-bg-color: #DDD;\n",
              "  }\n",
              "\n",
              "  [theme=dark] .colab-df-quickchart {\n",
              "      --bg-color: #3B4455;\n",
              "      --fill-color: #D2E3FC;\n",
              "      --hover-bg-color: #434B5C;\n",
              "      --hover-fill-color: #FFFFFF;\n",
              "      --disabled-bg-color: #3B4455;\n",
              "      --disabled-fill-color: #666;\n",
              "  }\n",
              "\n",
              "  .colab-df-quickchart {\n",
              "    background-color: var(--bg-color);\n",
              "    border: none;\n",
              "    border-radius: 50%;\n",
              "    cursor: pointer;\n",
              "    display: none;\n",
              "    fill: var(--fill-color);\n",
              "    height: 32px;\n",
              "    padding: 0;\n",
              "    width: 32px;\n",
              "  }\n",
              "\n",
              "  .colab-df-quickchart:hover {\n",
              "    background-color: var(--hover-bg-color);\n",
              "    box-shadow: 0 1px 2px rgba(60, 64, 67, 0.3), 0 1px 3px 1px rgba(60, 64, 67, 0.15);\n",
              "    fill: var(--button-hover-fill-color);\n",
              "  }\n",
              "\n",
              "  .colab-df-quickchart-complete:disabled,\n",
              "  .colab-df-quickchart-complete:disabled:hover {\n",
              "    background-color: var(--disabled-bg-color);\n",
              "    fill: var(--disabled-fill-color);\n",
              "    box-shadow: none;\n",
              "  }\n",
              "\n",
              "  .colab-df-spinner {\n",
              "    border: 2px solid var(--fill-color);\n",
              "    border-color: transparent;\n",
              "    border-bottom-color: var(--fill-color);\n",
              "    animation:\n",
              "      spin 1s steps(1) infinite;\n",
              "  }\n",
              "\n",
              "  @keyframes spin {\n",
              "    0% {\n",
              "      border-color: transparent;\n",
              "      border-bottom-color: var(--fill-color);\n",
              "      border-left-color: var(--fill-color);\n",
              "    }\n",
              "    20% {\n",
              "      border-color: transparent;\n",
              "      border-left-color: var(--fill-color);\n",
              "      border-top-color: var(--fill-color);\n",
              "    }\n",
              "    30% {\n",
              "      border-color: transparent;\n",
              "      border-left-color: var(--fill-color);\n",
              "      border-top-color: var(--fill-color);\n",
              "      border-right-color: var(--fill-color);\n",
              "    }\n",
              "    40% {\n",
              "      border-color: transparent;\n",
              "      border-right-color: var(--fill-color);\n",
              "      border-top-color: var(--fill-color);\n",
              "    }\n",
              "    60% {\n",
              "      border-color: transparent;\n",
              "      border-right-color: var(--fill-color);\n",
              "    }\n",
              "    80% {\n",
              "      border-color: transparent;\n",
              "      border-right-color: var(--fill-color);\n",
              "      border-bottom-color: var(--fill-color);\n",
              "    }\n",
              "    90% {\n",
              "      border-color: transparent;\n",
              "      border-bottom-color: var(--fill-color);\n",
              "    }\n",
              "  }\n",
              "</style>\n",
              "\n",
              "  <script>\n",
              "    async function quickchart(key) {\n",
              "      const quickchartButtonEl =\n",
              "        document.querySelector('#' + key + ' button');\n",
              "      quickchartButtonEl.disabled = true;  // To prevent multiple clicks.\n",
              "      quickchartButtonEl.classList.add('colab-df-spinner');\n",
              "      try {\n",
              "        const charts = await google.colab.kernel.invokeFunction(\n",
              "            'suggestCharts', [key], {});\n",
              "      } catch (error) {\n",
              "        console.error('Error during call to suggestCharts:', error);\n",
              "      }\n",
              "      quickchartButtonEl.classList.remove('colab-df-spinner');\n",
              "      quickchartButtonEl.classList.add('colab-df-quickchart-complete');\n",
              "    }\n",
              "    (() => {\n",
              "      let quickchartButtonEl =\n",
              "        document.querySelector('#df-b41bab5e-1c62-400b-80e2-0c58bafa8b42 button');\n",
              "      quickchartButtonEl.style.display =\n",
              "        google.colab.kernel.accessAllowed ? 'block' : 'none';\n",
              "    })();\n",
              "  </script>\n",
              "</div>\n",
              "    </div>\n",
              "  </div>\n"
            ],
            "application/vnd.google.colaboratory.intrinsic+json": {
              "type": "dataframe",
              "variable_name": "df",
              "summary": "{\n  \"name\": \"df\",\n  \"rows\": 326,\n  \"fields\": [\n    {\n      \"column\": \"smiles\",\n      \"properties\": {\n        \"dtype\": \"string\",\n        \"num_unique_values\": 326,\n        \"samples\": [\n          \"ClC=1C=CC=CC1N2N=NC(=C2)CN3C=C(C4=NC=5C=CC=CC5N4)C=6C=CC=CC63\",\n          \"O=C(C1=CC=C(Cl)C=C1)N2C(=NC=3C=CC=CC32)C4=CN(N=C4C=5C=CC(F)=CC5)C=6C=CC=CC6\",\n          \"O=C1N(C2=NC=3C=CC=CC3N2C)C(C=4C=CC=CC4N(=O)=O)C1Cl\"\n        ],\n        \"semantic_type\": \"\",\n        \"description\": \"\"\n      }\n    },\n    {\n      \"column\": \"doi\",\n      \"properties\": {\n        \"dtype\": \"category\",\n        \"num_unique_values\": 26,\n        \"samples\": [\n          \"https://doi.org/10.1021/acsomega.2c06142?urlappend=%3Fref%3DPDF&jav=VoR&rel=cite-as\",\n          \"10.1002/jccs.202000418J Chin Chem Soc.2021;68:1291\\u20131301.http://www.jccs.wiley-vch.de\\u00a9 2021 The Chemical Society Located in Taipei & Wiley-VCH GmbH1291\",\n          \"10.1002/cjoc.202200326\"\n        ],\n        \"semantic_type\": \"\",\n        \"description\": \"\"\n      }\n    },\n    {\n      \"column\": \"id\",\n      \"properties\": {\n        \"dtype\": \"string\",\n        \"num_unique_values\": 202,\n        \"samples\": [\n          \"33\",\n          \"35b\",\n          \"3c\"\n        ],\n        \"semantic_type\": \"\",\n        \"description\": \"\"\n      }\n    },\n    {\n      \"column\": \"group\",\n      \"properties\": {\n        \"dtype\": \"category\",\n        \"num_unique_values\": 43,\n        \"samples\": [\n          \"CC(=NN1C(=O)C(C#N)=C(C2=CC=C(C=C2)N(=O)=O)C(C#N)=C1N=CC1=CC=CC=C1)C1=NC2=C(N1)C=CC=C2\",\n          \"O=C(CN1C=[N+](CC(=O)C2=CC=CC=C2)C2=C1C=CC=C2)NC1=CC=CC2=CC=CN=C12\",\n          \"[H]N(C(=O)CCN1C=[N+](CC(=O)C2=CC=CC=C2)C2=C1C=CC=C2)C1=CC=CC2=CC=CN=C12\"\n        ],\n        \"semantic_type\": \"\",\n        \"description\": \"\"\n      }\n    },\n    {\n      \"column\": \"group_name\",\n      \"properties\": {\n        \"dtype\": \"category\",\n        \"num_unique_values\": 24,\n        \"samples\": [\n          \"thiadiazole\",\n          \"sulfonamide\",\n          \"pyrimidinone\"\n        ],\n        \"semantic_type\": \"\",\n        \"description\": \"\"\n      }\n    },\n    {\n      \"column\": \"MIC\",\n      \"properties\": {\n        \"dtype\": \"number\",\n        \"std\": 19.734342885534424,\n        \"min\": 1.723305990211621e-06,\n        \"max\": 163.2,\n        \"num_unique_values\": 295,\n        \"samples\": [\n          0.0194223784644667,\n          0.1627448547197023,\n          0.042986051885884\n        ],\n        \"semantic_type\": \"\",\n        \"description\": \"\"\n      }\n    },\n    {\n      \"column\": \"lgMIC\",\n      \"properties\": {\n        \"dtype\": \"number\",\n        \"std\": 0.9822294493323408,\n        \"min\": -5.763637602376833,\n        \"max\": 2.212720154417842,\n        \"num_unique_values\": 295,\n        \"samples\": [\n          -1.7116975874690574,\n          -0.7884927330342059,\n          -1.3666724414360063\n        ],\n        \"semantic_type\": \"\",\n        \"description\": \"\"\n      }\n    },\n    {\n      \"column\": \"scaffold\",\n      \"properties\": {\n        \"dtype\": \"category\",\n        \"num_unique_values\": 85,\n        \"samples\": [\n          \"c1ccc(-c2[nH]c3ccccc3c2C2=NNC(c3nc4ccccc4[nH]3)C2)cc1\",\n          \"O=C1NC(Cn2cnc3ccccc32)=CC(c2ccco2)N1\",\n          \"O=S(=O)(Nc1ccno1)c1ccc(-n2cc(CSc3nc4ccccc4[nH]3)nn2)cc1\"\n        ],\n        \"semantic_type\": \"\",\n        \"description\": \"\"\n      }\n    },\n    {\n      \"column\": \"group_strat\",\n      \"properties\": {\n        \"dtype\": \"category\",\n        \"num_unique_values\": 35,\n        \"samples\": [\n          \"[H]N(N=C1C(C)=NN(C1=O)C1=CC=CC=C1)C1=CC=C(C=C1)C1=CC=C(C=C1)C1=NC2=CC=CC=C2[N]1\",\n          \"C(N1C=NC2=C(N=CN=C12)N1CCOCC1)C1=NC2=C(N1)C=CC=C2\",\n          \"FC1=CC=C(C=C1)C1=NC2=C(C=CC=C2)C(=C1)C1=NC2=C(N1)C=CC=N2\"\n        ],\n        \"semantic_type\": \"\",\n        \"description\": \"\"\n      }\n    }\n  ]\n}"
            }
          },
          "metadata": {},
          "execution_count": 7
        }
      ]
    },
    {
      "cell_type": "code",
      "execution_count": null,
      "metadata": {
        "id": "LLuEXpJqAkbl"
      },
      "outputs": [],
      "source": [
        "def get_fingerprint(smiles):\n",
        "  '''Converts SMILES into Morgan fingerprint'''\n",
        "  fp_array = np.zeros((0,), dtype=np.int8)\n",
        "  mol = Chem.MolFromSmiles(smiles)\n",
        "  fp = AllChem.GetMorganFingerprintAsBitVect(mol, 2, nBits=256)\n",
        "  ConvertToNumpyArray(fp, fp_array)\n",
        "  return fp_array"
      ]
    },
    {
      "cell_type": "code",
      "execution_count": null,
      "metadata": {
        "collapsed": true,
        "id": "5bUa676mA6eS"
      },
      "outputs": [],
      "source": [
        "# create fingerprints from SMILES\n",
        "df['fp'] = df['smiles'].apply(get_fingerprint)"
      ]
    },
    {
      "cell_type": "code",
      "execution_count": null,
      "metadata": {
        "id": "ESuXHb8lAQUb"
      },
      "outputs": [],
      "source": [
        "# split data into predictor and target\n",
        "X = np.stack(df.fp.apply(lambda x: np.array(x)).to_numpy()).astype(np.float64)\n",
        "y = df['lgMIC']#.apply(lambda x: -x)"
      ]
    },
    {
      "cell_type": "code",
      "execution_count": null,
      "metadata": {
        "id": "o0ZiGMhqA_Yw"
      },
      "outputs": [],
      "source": [
        "X_train, X_test, y_train, y_test = train_test_split(X, y, test_size=0.2, random_state=42, stratify=df.group_strat)"
      ]
    },
    {
      "cell_type": "code",
      "source": [
        "# the most promissing scaffolds\n",
        "groups = ['OC(=O)C1=CNC2=CC(N3CCN(CC3)C3=NC4=C(N3)C=CC=C4)=C(F)C=C2C1=O',\n",
        "       'OC(=O)C1=CNC2=CC(N3CCN(CC4=NC5=C(N4)C=CC=C5)CC3)=C(F)C=C2C1=O',\n",
        "       'OC(=O)C1=CNC2=CC(N3CCN(CCC4=NC5=C(N4)C=CC=C5)CC3)=C(F)C=C2C1=O',\n",
        "       'OC(=O)C1=CNC2=CC(N3CCN(CNC4=NC5=C(N4)C=CC=C5)CC3)=C(F)C=C2C1=O',\n",
        "        'O=C(CN1C=[N+](CC(=O)C2=CC=CC=C2)C2=C1C=CC=C2)NC1=CC=CC2=CC=CN=C12',\n",
        "        '[H]N(C(=O)CCN1C=[N+](CC(=O)C2=CC=CC=C2)C2=C1C=CC=C2)C1=CC=CC2=CC=CN=C12']\n",
        "df1 = df[df.group.isin(groups)]\n",
        "df1.shape"
      ],
      "metadata": {
        "id": "wjINJKawg1Qf",
        "colab": {
          "base_uri": "https://localhost:8080/"
        },
        "outputId": "3cc943f9-af29-40f5-be63-673cb7d52fdf"
      },
      "execution_count": null,
      "outputs": [
        {
          "output_type": "execute_result",
          "data": {
            "text/plain": [
              "(50, 10)"
            ]
          },
          "metadata": {},
          "execution_count": 8
        }
      ]
    },
    {
      "cell_type": "code",
      "source": [
        "X_scaf = np.stack(df1.fp.apply(lambda x: np.array(x)).to_numpy()).astype(np.float64)\n",
        "X_scaf.shape"
      ],
      "metadata": {
        "colab": {
          "base_uri": "https://localhost:8080/"
        },
        "id": "Mc76YsDijzBi",
        "outputId": "cdbec99a-bd23-4133-c7c2-d7f793cfecb0"
      },
      "execution_count": null,
      "outputs": [
        {
          "output_type": "execute_result",
          "data": {
            "text/plain": [
              "(50, 256)"
            ]
          },
          "metadata": {},
          "execution_count": 9
        }
      ]
    },
    {
      "cell_type": "markdown",
      "source": [
        "# LGBM Shap"
      ],
      "metadata": {
        "id": "L2l8f7YAfMMt"
      }
    },
    {
      "cell_type": "code",
      "source": [
        "shap_values = shap.TreeExplainer(model).shap_values(X_scaf)"
      ],
      "metadata": {
        "id": "GS3vAPlOfO5v"
      },
      "execution_count": null,
      "outputs": []
    },
    {
      "cell_type": "code",
      "source": [
        "import matplotlib.pyplot as plt\n",
        "fig = shap.plots.violin(shap_values, X_scaf, max_display=10, feature_names=[f'Bit {i}' for i in range(256)], show=False)\n",
        "plt.savefig('shap.png', dpi=500)"
      ],
      "metadata": {
        "colab": {
          "base_uri": "https://localhost:8080/",
          "height": 514
        },
        "id": "u-HKKORh4otM",
        "outputId": "15c59cc5-d50e-498e-96f5-8efc516ec0de"
      },
      "execution_count": null,
      "outputs": [
        {
          "output_type": "display_data",
          "data": {
            "text/plain": [
              "<Figure size 800x550 with 2 Axes>"
            ],
            "image/png": "[encoded data removed]"
          },
          "metadata": {}
        }
      ]
    }
  ]
}