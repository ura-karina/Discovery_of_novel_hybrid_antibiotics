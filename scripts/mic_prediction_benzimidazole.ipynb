{
  "cells": [
    {
      "cell_type": "markdown",
      "metadata": {
        "id": "OnVFd7tKGuEp"
      },
      "source": [
        "# Testing ML-models and molecular representations for MIC prediction of benzimidazole hybrids\n",
        "In order to decide wether newly generated molecule is bioactive or not it is necessary to obtain its minimal inhibitory concentration (MIC). To adress this problem we are going to create a model which takes molecular structure as input and predicts its MIC value. By testing different ML methods and molecular representations we want to obtain the best result in terms of accuracy, time and interpretability."
      ]
    },
    {
      "cell_type": "markdown",
      "metadata": {
        "id": "h5-k1-ZUHAzD"
      },
      "source": [
        "## Dependencies"
      ]
    },
    {
      "cell_type": "code",
      "execution_count": null,
      "metadata": {
        "colab": {
          "base_uri": "https://localhost:8080/"
        },
        "id": "n82uzoeEAxCf",
        "collapsed": true,
        "outputId": "3ce53bc6-42b8-4b9e-fce0-068edb986e0b"
      },
      "outputs": [
        {
          "output_type": "stream",
          "name": "stdout",
          "text": [
            "\u001b[2K   \u001b[90m━━━━━━━━━━━━━━━━━━━━━━━━━━━━━━━━━━━━━━━━\u001b[0m \u001b[32m33.1/33.1 MB\u001b[0m \u001b[31m21.7 MB/s\u001b[0m eta \u001b[36m0:00:00\u001b[0m\n",
            "\u001b[?25h  Preparing metadata (setup.py) ... \u001b[?25l\u001b[?25hdone\n",
            "  Building wheel for mol2vec (setup.py) ... \u001b[?25l\u001b[?25hdone\n",
            "\u001b[2K   \u001b[90m━━━━━━━━━━━━━━━━━━━━━━━━━━━━━━━━━━━━━━━━\u001b[0m \u001b[32m362.8/362.8 kB\u001b[0m \u001b[31m8.5 MB/s\u001b[0m eta \u001b[36m0:00:00\u001b[0m\n",
            "\u001b[2K   \u001b[90m━━━━━━━━━━━━━━━━━━━━━━━━━━━━━━━━━━━━━━━━\u001b[0m \u001b[32m233.2/233.2 kB\u001b[0m \u001b[31m18.4 MB/s\u001b[0m eta \u001b[36m0:00:00\u001b[0m\n",
            "\u001b[2K   \u001b[90m━━━━━━━━━━━━━━━━━━━━━━━━━━━━━━━━━━━━━━━━\u001b[0m \u001b[32m78.6/78.6 kB\u001b[0m \u001b[31m5.4 MB/s\u001b[0m eta \u001b[36m0:00:00\u001b[0m\n",
            "\u001b[2K   \u001b[90m━━━━━━━━━━━━━━━━━━━━━━━━━━━━━━━━━━━━━━━━\u001b[0m \u001b[32m9.6/9.6 MB\u001b[0m \u001b[31m66.5 MB/s\u001b[0m eta \u001b[36m0:00:00\u001b[0m\n",
            "\u001b[?25h"
          ]
        }
      ],
      "source": [
        "%pip install rdkit -q\n",
        "%pip install lazypredict -q\n",
        "%pip install git+https://github.com/samoturk/mol2vec -q\n",
        "%pip install optuna -q\n",
        "%pip install scikit-learn==1.2.2 -q"
      ]
    },
    {
      "cell_type": "code",
      "execution_count": null,
      "metadata": {
        "id": "7ToWySZ9x3Yb",
        "colab": {
          "base_uri": "https://localhost:8080/"
        },
        "outputId": "d91fb756-8049-4120-ddd4-181cadbce814"
      },
      "outputs": [
        {
          "output_type": "stream",
          "name": "stderr",
          "text": [
            "/usr/local/lib/python3.10/dist-packages/dask/dataframe/__init__.py:42: FutureWarning: \n",
            "Dask dataframe query planning is disabled because dask-expr is not installed.\n",
            "\n",
            "You can install it with `pip install dask[dataframe]` or `conda install dask`.\n",
            "This will raise in a future version.\n",
            "\n",
            "  warnings.warn(msg, FutureWarning)\n"
          ]
        }
      ],
      "source": [
        "import pandas as pd\n",
        "import numpy as np\n",
        "import optuna\n",
        "\n",
        "from rdkit import Chem\n",
        "from rdkit.Chem.Draw import IPythonConsole, rdMolDraw2D\n",
        "from rdkit.Chem import rdDepictor, AllChem, rdRGroupDecomposition, PandasTools\n",
        "from IPython.display import SVG\n",
        "from rdkit.DataStructs.cDataStructs import ConvertToNumpyArray\n",
        "from rdkit import RDLogger\n",
        "RDLogger.DisableLog('rdApp.*')\n",
        "\n",
        "from sklearn.model_selection import train_test_split\n",
        "from sklearn.preprocessing import MinMaxScaler\n",
        "from sklearn.metrics import accuracy_score, f1_score, balanced_accuracy_score, mean_squared_error, r2_score\n",
        "from sklearn.model_selection import GridSearchCV\n",
        "from sklearn.model_selection import KFold\n",
        "from sklearn.ensemble import GradientBoostingRegressor, RandomForestRegressor, ExtraTreesRegressor\n",
        "from sklearn.neighbors import KNeighborsRegressor\n",
        "from sklearn.linear_model import Ridge\n",
        "\n",
        "import lazypredict\n",
        "from lazypredict.Supervised import LazyRegressor, LazyClassifier\n",
        "\n",
        "import matplotlib.pyplot as plt\n",
        "import seaborn as sns\n",
        "\n",
        "\n",
        "from mol2vec import features\n",
        "from mol2vec.features import mol2alt_sentence, MolSentence, DfVec, sentences2vec\n",
        "from gensim.models import word2vec\n",
        "\n",
        "from xgboost import XGBRegressor\n",
        "import lightgbm as lgb"
      ]
    },
    {
      "cell_type": "markdown",
      "metadata": {
        "id": "sZg1LaghQefN"
      },
      "source": [
        "## Prepare data"
      ]
    },
    {
      "cell_type": "code",
      "execution_count": null,
      "metadata": {
        "id": "PdvdOy6AAGKB",
        "colab": {
          "base_uri": "https://localhost:8080/",
          "height": 226
        },
        "outputId": "13a2c583-67e9-494e-a6d3-f252493540ac"
      },
      "outputs": [
        {
          "output_type": "execute_result",
          "data": {
            "text/plain": [
              "                                              smiles                     doi  \\\n",
              "0  O=C(OCC)C1=C(NC(=O)NC1C=2OC=CC2)CN3C=NC=4C=CC=...  10.1002/cjoc.202200326   \n",
              "1  O=C(OCC)C1=C(N(C(=O)N(C1C2=CC=CS2)[H])[H])C[N]...  10.1002/cjoc.202200326   \n",
              "2  O=C(OCC)C1=C(N(C(=O)N(C1C2=C(C=CS2)C)[H])[H])C...  10.1002/cjoc.202200326   \n",
              "3  O=C(OCC)C1=C(N(C(=O)N(C1C2=CC=CS2)[H])[H])C[N]...  10.1002/cjoc.202200326   \n",
              "4  O=C(OCC)C1=C(N(C(=O)N(C1C2=CC=CS2)[H])[H])C[N]...  10.1002/cjoc.202200326   \n",
              "\n",
              "   id                                      group    group_name  MIC  lgMIC  \\\n",
              "0  5a  CCOC(=O)C1=C(CN2C=NC3=C2C=CC=C3)NC(=O)NC1  pyrimidinone 0.17  -0.76   \n",
              "1  5b  CCOC(=O)C1=C(CN2C=NC3=C2C=CC=C3)NC(=O)NC1  pyrimidinone 0.08  -1.08   \n",
              "2  5c  CCOC(=O)C1=C(CN2C=NC3=C2C=CC=C3)NC(=O)NC1  pyrimidinone 0.08  -1.09   \n",
              "3  6a  CCOC(=O)C1=C(CN2C=NC3=C2C=CC=C3)NC(=O)NC1  pyrimidinone 0.03  -1.46   \n",
              "4  6b  CCOC(=O)C1=C(CN2C=NC3=C2C=CC=C3)NC(=O)NC1  pyrimidinone 0.04  -1.43   \n",
              "\n",
              "                               scaffold  \n",
              "0  O=C1NC(Cn2cnc3ccccc32)=CC(c2ccco2)N1  \n",
              "1  O=C1NC(Cn2cnc3ccccc32)=CC(c2cccs2)N1  \n",
              "2  O=C1NC(Cn2cnc3ccccc32)=CC(c2cccs2)N1  \n",
              "3  O=C1NC(Cn2cnc3ccccc32)=CC(c2cccs2)N1  \n",
              "4  O=C1NC(Cn2cnc3ccccc32)=CC(c2cccs2)N1  "
            ],
            "text/html": [
              "\n",
              "  <div id=\"df-d04c2297-8710-4976-9c4e-aff32ac7a6cd\" class=\"colab-df-container\">\n",
              "    <div>\n",
              "<style scoped>\n",
              "    .dataframe tbody tr th:only-of-type {\n",
              "        vertical-align: middle;\n",
              "    }\n",
              "\n",
              "    .dataframe tbody tr th {\n",
              "        vertical-align: top;\n",
              "    }\n",
              "\n",
              "    .dataframe thead th {\n",
              "        text-align: right;\n",
              "    }\n",
              "</style>\n",
              "<table border=\"1\" class=\"dataframe\">\n",
              "  <thead>\n",
              "    <tr style=\"text-align: right;\">\n",
              "      <th></th>\n",
              "      <th>smiles</th>\n",
              "      <th>doi</th>\n",
              "      <th>id</th>\n",
              "      <th>group</th>\n",
              "      <th>group_name</th>\n",
              "      <th>MIC</th>\n",
              "      <th>lgMIC</th>\n",
              "      <th>scaffold</th>\n",
              "    </tr>\n",
              "  </thead>\n",
              "  <tbody>\n",
              "    <tr>\n",
              "      <th>0</th>\n",
              "      <td>O=C(OCC)C1=C(NC(=O)NC1C=2OC=CC2)CN3C=NC=4C=CC=...</td>\n",
              "      <td>10.1002/cjoc.202200326</td>\n",
              "      <td>5a</td>\n",
              "      <td>CCOC(=O)C1=C(CN2C=NC3=C2C=CC=C3)NC(=O)NC1</td>\n",
              "      <td>pyrimidinone</td>\n",
              "      <td>0.17</td>\n",
              "      <td>-0.76</td>\n",
              "      <td>O=C1NC(Cn2cnc3ccccc32)=CC(c2ccco2)N1</td>\n",
              "    </tr>\n",
              "    <tr>\n",
              "      <th>1</th>\n",
              "      <td>O=C(OCC)C1=C(N(C(=O)N(C1C2=CC=CS2)[H])[H])C[N]...</td>\n",
              "      <td>10.1002/cjoc.202200326</td>\n",
              "      <td>5b</td>\n",
              "      <td>CCOC(=O)C1=C(CN2C=NC3=C2C=CC=C3)NC(=O)NC1</td>\n",
              "      <td>pyrimidinone</td>\n",
              "      <td>0.08</td>\n",
              "      <td>-1.08</td>\n",
              "      <td>O=C1NC(Cn2cnc3ccccc32)=CC(c2cccs2)N1</td>\n",
              "    </tr>\n",
              "    <tr>\n",
              "      <th>2</th>\n",
              "      <td>O=C(OCC)C1=C(N(C(=O)N(C1C2=C(C=CS2)C)[H])[H])C...</td>\n",
              "      <td>10.1002/cjoc.202200326</td>\n",
              "      <td>5c</td>\n",
              "      <td>CCOC(=O)C1=C(CN2C=NC3=C2C=CC=C3)NC(=O)NC1</td>\n",
              "      <td>pyrimidinone</td>\n",
              "      <td>0.08</td>\n",
              "      <td>-1.09</td>\n",
              "      <td>O=C1NC(Cn2cnc3ccccc32)=CC(c2cccs2)N1</td>\n",
              "    </tr>\n",
              "    <tr>\n",
              "      <th>3</th>\n",
              "      <td>O=C(OCC)C1=C(N(C(=O)N(C1C2=CC=CS2)[H])[H])C[N]...</td>\n",
              "      <td>10.1002/cjoc.202200326</td>\n",
              "      <td>6a</td>\n",
              "      <td>CCOC(=O)C1=C(CN2C=NC3=C2C=CC=C3)NC(=O)NC1</td>\n",
              "      <td>pyrimidinone</td>\n",
              "      <td>0.03</td>\n",
              "      <td>-1.46</td>\n",
              "      <td>O=C1NC(Cn2cnc3ccccc32)=CC(c2cccs2)N1</td>\n",
              "    </tr>\n",
              "    <tr>\n",
              "      <th>4</th>\n",
              "      <td>O=C(OCC)C1=C(N(C(=O)N(C1C2=CC=CS2)[H])[H])C[N]...</td>\n",
              "      <td>10.1002/cjoc.202200326</td>\n",
              "      <td>6b</td>\n",
              "      <td>CCOC(=O)C1=C(CN2C=NC3=C2C=CC=C3)NC(=O)NC1</td>\n",
              "      <td>pyrimidinone</td>\n",
              "      <td>0.04</td>\n",
              "      <td>-1.43</td>\n",
              "      <td>O=C1NC(Cn2cnc3ccccc32)=CC(c2cccs2)N1</td>\n",
              "    </tr>\n",
              "  </tbody>\n",
              "</table>\n",
              "</div>\n",
              "    <div class=\"colab-df-buttons\">\n",
              "\n",
              "  <div class=\"colab-df-container\">\n",
              "    <button class=\"colab-df-convert\" onclick=\"convertToInteractive('df-d04c2297-8710-4976-9c4e-aff32ac7a6cd')\"\n",
              "            title=\"Convert this dataframe to an interactive table.\"\n",
              "            style=\"display:none;\">\n",
              "\n",
              "  <svg xmlns=\"http://www.w3.org/2000/svg\" height=\"24px\" viewBox=\"0 -960 960 960\">\n",
              "    <path d=\"M120-120v-720h720v720H120Zm60-500h600v-160H180v160Zm220 220h160v-160H400v160Zm0 220h160v-160H400v160ZM180-400h160v-160H180v160Zm440 0h160v-160H620v160ZM180-180h160v-160H180v160Zm440 0h160v-160H620v160Z\"/>\n",
              "  </svg>\n",
              "    </button>\n",
              "\n",
              "  <style>\n",
              "    .colab-df-container {\n",
              "      display:flex;\n",
              "      gap: 12px;\n",
              "    }\n",
              "\n",
              "    .colab-df-convert {\n",
              "      background-color: #E8F0FE;\n",
              "      border: none;\n",
              "      border-radius: 50%;\n",
              "      cursor: pointer;\n",
              "      display: none;\n",
              "      fill: #1967D2;\n",
              "      height: 32px;\n",
              "      padding: 0 0 0 0;\n",
              "      width: 32px;\n",
              "    }\n",
              "\n",
              "    .colab-df-convert:hover {\n",
              "      background-color: #E2EBFA;\n",
              "      box-shadow: 0px 1px 2px rgba(60, 64, 67, 0.3), 0px 1px 3px 1px rgba(60, 64, 67, 0.15);\n",
              "      fill: #174EA6;\n",
              "    }\n",
              "\n",
              "    .colab-df-buttons div {\n",
              "      margin-bottom: 4px;\n",
              "    }\n",
              "\n",
              "    [theme=dark] .colab-df-convert {\n",
              "      background-color: #3B4455;\n",
              "      fill: #D2E3FC;\n",
              "    }\n",
              "\n",
              "    [theme=dark] .colab-df-convert:hover {\n",
              "      background-color: #434B5C;\n",
              "      box-shadow: 0px 1px 3px 1px rgba(0, 0, 0, 0.15);\n",
              "      filter: drop-shadow(0px 1px 2px rgba(0, 0, 0, 0.3));\n",
              "      fill: #FFFFFF;\n",
              "    }\n",
              "  </style>\n",
              "\n",
              "    <script>\n",
              "      const buttonEl =\n",
              "        document.querySelector('#df-d04c2297-8710-4976-9c4e-aff32ac7a6cd button.colab-df-convert');\n",
              "      buttonEl.style.display =\n",
              "        google.colab.kernel.accessAllowed ? 'block' : 'none';\n",
              "\n",
              "      async function convertToInteractive(key) {\n",
              "        const element = document.querySelector('#df-d04c2297-8710-4976-9c4e-aff32ac7a6cd');\n",
              "        const dataTable =\n",
              "          await google.colab.kernel.invokeFunction('convertToInteractive',\n",
              "                                                    [key], {});\n",
              "        if (!dataTable) return;\n",
              "\n",
              "        const docLinkHtml = 'Like what you see? Visit the ' +\n",
              "          '<a target=\"_blank\" href=https://colab.research.google.com/notebooks/data_table.ipynb>data table notebook</a>'\n",
              "          + ' to learn more about interactive tables.';\n",
              "        element.innerHTML = '';\n",
              "        dataTable['output_type'] = 'display_data';\n",
              "        await google.colab.output.renderOutput(dataTable, element);\n",
              "        const docLink = document.createElement('div');\n",
              "        docLink.innerHTML = docLinkHtml;\n",
              "        element.appendChild(docLink);\n",
              "      }\n",
              "    </script>\n",
              "  </div>\n",
              "\n",
              "\n",
              "<div id=\"df-cd03c436-2fa8-4f68-9285-8472e9a58dea\">\n",
              "  <button class=\"colab-df-quickchart\" onclick=\"quickchart('df-cd03c436-2fa8-4f68-9285-8472e9a58dea')\"\n",
              "            title=\"Suggest charts\"\n",
              "            style=\"display:none;\">\n",
              "\n",
              "<svg xmlns=\"http://www.w3.org/2000/svg\" height=\"24px\"viewBox=\"0 0 24 24\"\n",
              "     width=\"24px\">\n",
              "    <g>\n",
              "        <path d=\"M19 3H5c-1.1 0-2 .9-2 2v14c0 1.1.9 2 2 2h14c1.1 0 2-.9 2-2V5c0-1.1-.9-2-2-2zM9 17H7v-7h2v7zm4 0h-2V7h2v10zm4 0h-2v-4h2v4z\"/>\n",
              "    </g>\n",
              "</svg>\n",
              "  </button>\n",
              "\n",
              "<style>\n",
              "  .colab-df-quickchart {\n",
              "      --bg-color: #E8F0FE;\n",
              "      --fill-color: #1967D2;\n",
              "      --hover-bg-color: #E2EBFA;\n",
              "      --hover-fill-color: #174EA6;\n",
              "      --disabled-fill-color: #AAA;\n",
              "      --disabled-bg-color: #DDD;\n",
              "  }\n",
              "\n",
              "  [theme=dark] .colab-df-quickchart {\n",
              "      --bg-color: #3B4455;\n",
              "      --fill-color: #D2E3FC;\n",
              "      --hover-bg-color: #434B5C;\n",
              "      --hover-fill-color: #FFFFFF;\n",
              "      --disabled-bg-color: #3B4455;\n",
              "      --disabled-fill-color: #666;\n",
              "  }\n",
              "\n",
              "  .colab-df-quickchart {\n",
              "    background-color: var(--bg-color);\n",
              "    border: none;\n",
              "    border-radius: 50%;\n",
              "    cursor: pointer;\n",
              "    display: none;\n",
              "    fill: var(--fill-color);\n",
              "    height: 32px;\n",
              "    padding: 0;\n",
              "    width: 32px;\n",
              "  }\n",
              "\n",
              "  .colab-df-quickchart:hover {\n",
              "    background-color: var(--hover-bg-color);\n",
              "    box-shadow: 0 1px 2px rgba(60, 64, 67, 0.3), 0 1px 3px 1px rgba(60, 64, 67, 0.15);\n",
              "    fill: var(--button-hover-fill-color);\n",
              "  }\n",
              "\n",
              "  .colab-df-quickchart-complete:disabled,\n",
              "  .colab-df-quickchart-complete:disabled:hover {\n",
              "    background-color: var(--disabled-bg-color);\n",
              "    fill: var(--disabled-fill-color);\n",
              "    box-shadow: none;\n",
              "  }\n",
              "\n",
              "  .colab-df-spinner {\n",
              "    border: 2px solid var(--fill-color);\n",
              "    border-color: transparent;\n",
              "    border-bottom-color: var(--fill-color);\n",
              "    animation:\n",
              "      spin 1s steps(1) infinite;\n",
              "  }\n",
              "\n",
              "  @keyframes spin {\n",
              "    0% {\n",
              "      border-color: transparent;\n",
              "      border-bottom-color: var(--fill-color);\n",
              "      border-left-color: var(--fill-color);\n",
              "    }\n",
              "    20% {\n",
              "      border-color: transparent;\n",
              "      border-left-color: var(--fill-color);\n",
              "      border-top-color: var(--fill-color);\n",
              "    }\n",
              "    30% {\n",
              "      border-color: transparent;\n",
              "      border-left-color: var(--fill-color);\n",
              "      border-top-color: var(--fill-color);\n",
              "      border-right-color: var(--fill-color);\n",
              "    }\n",
              "    40% {\n",
              "      border-color: transparent;\n",
              "      border-right-color: var(--fill-color);\n",
              "      border-top-color: var(--fill-color);\n",
              "    }\n",
              "    60% {\n",
              "      border-color: transparent;\n",
              "      border-right-color: var(--fill-color);\n",
              "    }\n",
              "    80% {\n",
              "      border-color: transparent;\n",
              "      border-right-color: var(--fill-color);\n",
              "      border-bottom-color: var(--fill-color);\n",
              "    }\n",
              "    90% {\n",
              "      border-color: transparent;\n",
              "      border-bottom-color: var(--fill-color);\n",
              "    }\n",
              "  }\n",
              "</style>\n",
              "\n",
              "  <script>\n",
              "    async function quickchart(key) {\n",
              "      const quickchartButtonEl =\n",
              "        document.querySelector('#' + key + ' button');\n",
              "      quickchartButtonEl.disabled = true;  // To prevent multiple clicks.\n",
              "      quickchartButtonEl.classList.add('colab-df-spinner');\n",
              "      try {\n",
              "        const charts = await google.colab.kernel.invokeFunction(\n",
              "            'suggestCharts', [key], {});\n",
              "      } catch (error) {\n",
              "        console.error('Error during call to suggestCharts:', error);\n",
              "      }\n",
              "      quickchartButtonEl.classList.remove('colab-df-spinner');\n",
              "      quickchartButtonEl.classList.add('colab-df-quickchart-complete');\n",
              "    }\n",
              "    (() => {\n",
              "      let quickchartButtonEl =\n",
              "        document.querySelector('#df-cd03c436-2fa8-4f68-9285-8472e9a58dea button');\n",
              "      quickchartButtonEl.style.display =\n",
              "        google.colab.kernel.accessAllowed ? 'block' : 'none';\n",
              "    })();\n",
              "  </script>\n",
              "</div>\n",
              "\n",
              "    </div>\n",
              "  </div>\n"
            ],
            "application/vnd.google.colaboratory.intrinsic+json": {
              "type": "dataframe",
              "variable_name": "df",
              "summary": "{\n  \"name\": \"df\",\n  \"rows\": 419,\n  \"fields\": [\n    {\n      \"column\": \"smiles\",\n      \"properties\": {\n        \"dtype\": \"string\",\n        \"num_unique_values\": 326,\n        \"samples\": [\n          \"ClC=1C=CC=CC1N2N=NC(=C2)CN3C=C(C4=NC=5C=CC=CC5N4)C=6C=CC=CC63\",\n          \"O=C(C1=CC=C(Cl)C=C1)N2C(=NC=3C=CC=CC32)C4=CN(N=C4C=5C=CC(F)=CC5)C=6C=CC=CC6\",\n          \"O=C1N(C2=NC=3C=CC=CC3N2C)C(C=4C=CC=CC4N(=O)=O)C1Cl\"\n        ],\n        \"semantic_type\": \"\",\n        \"description\": \"\"\n      }\n    },\n    {\n      \"column\": \"doi\",\n      \"properties\": {\n        \"dtype\": \"category\",\n        \"num_unique_values\": 27,\n        \"samples\": [\n          \"http://dx.doi.org/10.2174/1570180811666140725185713\",\n          \"https://doi.org/10.1016/j.molstruc.2023.135179\",\n          \"https://doi.org/10.1021/acsomega.2c06142?urlappend=%3Fref%3DPDF&jav=VoR&rel=cite-as\"\n        ],\n        \"semantic_type\": \"\",\n        \"description\": \"\"\n      }\n    },\n    {\n      \"column\": \"id\",\n      \"properties\": {\n        \"dtype\": \"category\",\n        \"num_unique_values\": 206,\n        \"samples\": [\n          \"35b\",\n          \"6g\",\n          \"88g\"\n        ],\n        \"semantic_type\": \"\",\n        \"description\": \"\"\n      }\n    },\n    {\n      \"column\": \"group\",\n      \"properties\": {\n        \"dtype\": \"category\",\n        \"num_unique_values\": 43,\n        \"samples\": [\n          \"CC(=NN1C(=O)C(C#N)=C(C2=CC=C(C=C2)N(=O)=O)C(C#N)=C1N=CC1=CC=CC=C1)C1=NC2=C(N1)C=CC=C2\",\n          \"O=C(CN1C=[N+](CC(=O)C2=CC=CC=C2)C2=C1C=CC=C2)NC1=CC=CC2=CC=CN=C12\",\n          \"[H]N(C(=O)CCN1C=[N+](CC(=O)C2=CC=CC=C2)C2=C1C=CC=C2)C1=CC=CC2=CC=CN=C12\"\n        ],\n        \"semantic_type\": \"\",\n        \"description\": \"\"\n      }\n    },\n    {\n      \"column\": \"group_name\",\n      \"properties\": {\n        \"dtype\": \"category\",\n        \"num_unique_values\": 24,\n        \"samples\": [\n          \"thiadiazole\",\n          \"sulfonamide\",\n          \"pyrimidinone\"\n        ],\n        \"semantic_type\": \"\",\n        \"description\": \"\"\n      }\n    },\n    {\n      \"column\": \"MIC\",\n      \"properties\": {\n        \"dtype\": \"number\",\n        \"std\": 17.45067939265352,\n        \"min\": 1.723305990211621e-06,\n        \"max\": 163.2,\n        \"num_unique_values\": 356,\n        \"samples\": [\n          0.0157948564050116,\n          0.471,\n          0.2714278734711824\n        ],\n        \"semantic_type\": \"\",\n        \"description\": \"\"\n      }\n    },\n    {\n      \"column\": \"lgMIC\",\n      \"properties\": {\n        \"dtype\": \"number\",\n        \"std\": 0.9802964855937929,\n        \"min\": -5.763637602376833,\n        \"max\": 2.212720154417842,\n        \"num_unique_values\": 355,\n        \"samples\": [\n          -1.8014843180205935,\n          -0.3269790928711038,\n          -0.5663455558172313\n        ],\n        \"semantic_type\": \"\",\n        \"description\": \"\"\n      }\n    },\n    {\n      \"column\": \"scaffold\",\n      \"properties\": {\n        \"dtype\": \"category\",\n        \"num_unique_values\": 85,\n        \"samples\": [\n          \"c1ccc(-c2[nH]c3ccccc3c2C2=NNC(c3nc4ccccc4[nH]3)C2)cc1\",\n          \"O=C1NC(Cn2cnc3ccccc32)=CC(c2ccco2)N1\",\n          \"O=S(=O)(Nc1ccno1)c1ccc(-n2cc(CSc3nc4ccccc4[nH]3)nn2)cc1\"\n        ],\n        \"semantic_type\": \"\",\n        \"description\": \"\"\n      }\n    }\n  ]\n}"
            }
          },
          "metadata": {},
          "execution_count": 4
        }
      ],
      "source": [
        "# upload dataset\n",
        "df = pd.read_csv('ecoli_qsar.csv')\n",
        "df.head()"
      ]
    },
    {
      "cell_type": "code",
      "execution_count": null,
      "metadata": {
        "id": "A9i72ChzHAy6",
        "colab": {
          "base_uri": "https://localhost:8080/"
        },
        "outputId": "2eed8708-6214-486e-ef22-a2dd7d91998a"
      },
      "outputs": [
        {
          "output_type": "execute_result",
          "data": {
            "text/plain": [
              "(419, 8)"
            ]
          },
          "metadata": {},
          "execution_count": 5
        }
      ],
      "source": [
        "df.shape"
      ]
    },
    {
      "cell_type": "code",
      "source": [
        "df.drop_duplicates(subset=['smiles','MIC'], inplace=True)\n",
        "df.shape"
      ],
      "metadata": {
        "colab": {
          "base_uri": "https://localhost:8080/"
        },
        "id": "vMSqbR3LY4-u",
        "outputId": "d82d22f8-5c8e-4eae-8af8-542a5acbdb4f"
      },
      "execution_count": null,
      "outputs": [
        {
          "output_type": "execute_result",
          "data": {
            "text/plain": [
              "(392, 8)"
            ]
          },
          "metadata": {},
          "execution_count": 6
        }
      ]
    },
    {
      "cell_type": "code",
      "source": [
        "repeated_smiles = df[df.smiles.duplicated()].smiles.unique()\n",
        "len(repeated_smiles)"
      ],
      "metadata": {
        "id": "Bnml5iUdDZ9U",
        "colab": {
          "base_uri": "https://localhost:8080/"
        },
        "outputId": "85d390b4-ddc6-475a-f327-3512908c910d"
      },
      "execution_count": null,
      "outputs": [
        {
          "output_type": "execute_result",
          "data": {
            "text/plain": [
              "66"
            ]
          },
          "metadata": {},
          "execution_count": 7
        }
      ]
    },
    {
      "cell_type": "code",
      "source": [
        "# filling with the median\n",
        "for smi in repeated_smiles:\n",
        "  df_temp = df[df.smiles==smi]\n",
        "  df.loc[df.smiles==smi, 'MIC'] = df_temp.MIC.median()"
      ],
      "metadata": {
        "id": "SisMpcPkNQS4"
      },
      "execution_count": null,
      "outputs": []
    },
    {
      "cell_type": "code",
      "source": [
        "df.drop_duplicates(subset=['smiles', 'MIC'], inplace=True)\n",
        "df.shape"
      ],
      "metadata": {
        "colab": {
          "base_uri": "https://localhost:8080/"
        },
        "id": "5CaATOj9PM3x",
        "outputId": "ab001ffa-5c69-47d9-d783-ca9b1ac61a24"
      },
      "execution_count": null,
      "outputs": [
        {
          "output_type": "execute_result",
          "data": {
            "text/plain": [
              "(326, 8)"
            ]
          },
          "metadata": {},
          "execution_count": 9
        }
      ]
    },
    {
      "cell_type": "code",
      "source": [
        "df.lgMIC = df.MIC.apply(lambda x: np.log10(x))\n",
        "df.lgMIC.hist(bins=30)"
      ],
      "metadata": {
        "colab": {
          "base_uri": "https://localhost:8080/",
          "height": 447
        },
        "id": "vL6c4IGtZnOi",
        "outputId": "2f54ac47-da88-4459-d33e-16c0b1379313"
      },
      "execution_count": null,
      "outputs": [
        {
          "output_type": "execute_result",
          "data": {
            "text/plain": [
              "<Axes: >"
            ]
          },
          "metadata": {},
          "execution_count": 10
        },
        {
          "output_type": "display_data",
          "data": {
            "text/plain": [
              "<Figure size 640x480 with 1 Axes>"
            ],
            "image/png": "[encoded data removed]"
          },
          "metadata": {}
        }
      ]
    },
    {
      "cell_type": "code",
      "source": [
        "df_ecoli = df.copy()"
      ],
      "metadata": {
        "id": "AmiPZ6RGefNS"
      },
      "execution_count": null,
      "outputs": []
    },
    {
      "cell_type": "code",
      "source": [
        "# all groups that are less than 2 in the dataset are labeled as other\n",
        "majority_groups = pd.DataFrame({'group':df_ecoli.group.value_counts().keys(), 'count': df_ecoli.group.value_counts().values})\n",
        "majority_groups = majority_groups[majority_groups['count']>1].group.tolist()\n",
        "df_ecoli['group_strat'] =  df_ecoli.group.apply(lambda x: x if x in majority_groups else 'other')"
      ],
      "metadata": {
        "id": "g7skNC78ilzt"
      },
      "execution_count": null,
      "outputs": []
    },
    {
      "cell_type": "code",
      "source": [
        "df_ecoli.to_csv('ecoli_qsar.csv', index=False)"
      ],
      "metadata": {
        "id": "YAECcbJVEpJb"
      },
      "execution_count": null,
      "outputs": []
    },
    {
      "cell_type": "markdown",
      "metadata": {
        "id": "GDdlMMwHHFqA"
      },
      "source": [
        "## Morgan fingerprints (regression)"
      ]
    },
    {
      "cell_type": "code",
      "execution_count": null,
      "metadata": {
        "id": "LLuEXpJqAkbl"
      },
      "outputs": [],
      "source": [
        "def get_fingerprint(smiles):\n",
        "  '''Converts SMILES into Morgan fingerprint'''\n",
        "  fp_array = np.zeros((0,), dtype=np.int8)\n",
        "  mol = Chem.MolFromSmiles(smiles)\n",
        "  fp = AllChem.GetMorganFingerprintAsBitVect(mol, 2, nBits=256)\n",
        "  ConvertToNumpyArray(fp, fp_array)\n",
        "  return fp_array"
      ]
    },
    {
      "cell_type": "code",
      "execution_count": null,
      "metadata": {
        "collapsed": true,
        "id": "5bUa676mA6eS"
      },
      "outputs": [],
      "source": [
        "# create fingerprints from SMILES\n",
        "df_ecoli['fp'] = df_ecoli['smiles'].apply(get_fingerprint)"
      ]
    },
    {
      "cell_type": "code",
      "execution_count": null,
      "metadata": {
        "id": "ESuXHb8lAQUb"
      },
      "outputs": [],
      "source": [
        "# split data into predictor and target\n",
        "X = np.stack(df_ecoli.fp.apply(lambda x: np.array(x)).to_numpy()).astype(np.float64)\n",
        "y = df_ecoli['lgMIC']#.apply(lambda x: -x)"
      ]
    },
    {
      "cell_type": "code",
      "execution_count": null,
      "metadata": {
        "id": "o0ZiGMhqA_Yw"
      },
      "outputs": [],
      "source": [
        "X_train, X_test, y_train, y_test, indicies_train, indicies_test = train_test_split(X, y, df_ecoli.index, test_size=0.2, random_state=42, stratify=df_ecoli.group_strat)"
      ]
    },
    {
      "cell_type": "code",
      "source": [
        "for idx in df_ecoli.index:\n",
        "  if idx in indicies_test:\n",
        "    df_ecoli.loc[idx, 'subset'] = 'test'\n",
        "  else:\n",
        "    df_ecoli.loc[idx, 'subset'] = 'train'"
      ],
      "metadata": {
        "id": "BRsO6Sxycbxt"
      },
      "execution_count": null,
      "outputs": []
    },
    {
      "cell_type": "code",
      "source": [
        "df_ecoli.subset.value_counts()"
      ],
      "metadata": {
        "colab": {
          "base_uri": "https://localhost:8080/",
          "height": 178
        },
        "id": "j8hQFSald3Zf",
        "outputId": "e04ddf52-1c6a-4d96-be36-4925d3709ef2"
      },
      "execution_count": null,
      "outputs": [
        {
          "output_type": "execute_result",
          "data": {
            "text/plain": [
              "subset\n",
              "train    260\n",
              "test      66\n",
              "Name: count, dtype: int64"
            ],
            "text/html": [
              "<div>\n",
              "<style scoped>\n",
              "    .dataframe tbody tr th:only-of-type {\n",
              "        vertical-align: middle;\n",
              "    }\n",
              "\n",
              "    .dataframe tbody tr th {\n",
              "        vertical-align: top;\n",
              "    }\n",
              "\n",
              "    .dataframe thead th {\n",
              "        text-align: right;\n",
              "    }\n",
              "</style>\n",
              "<table border=\"1\" class=\"dataframe\">\n",
              "  <thead>\n",
              "    <tr style=\"text-align: right;\">\n",
              "      <th></th>\n",
              "      <th>count</th>\n",
              "    </tr>\n",
              "    <tr>\n",
              "      <th>subset</th>\n",
              "      <th></th>\n",
              "    </tr>\n",
              "  </thead>\n",
              "  <tbody>\n",
              "    <tr>\n",
              "      <th>train</th>\n",
              "      <td>260</td>\n",
              "    </tr>\n",
              "    <tr>\n",
              "      <th>test</th>\n",
              "      <td>66</td>\n",
              "    </tr>\n",
              "  </tbody>\n",
              "</table>\n",
              "</div><br><label><b>dtype:</b> int64</label>"
            ]
          },
          "metadata": {},
          "execution_count": 174
        }
      ]
    },
    {
      "cell_type": "code",
      "source": [
        "plt.hist(y_train)"
      ],
      "metadata": {
        "colab": {
          "base_uri": "https://localhost:8080/",
          "height": 517
        },
        "id": "uDro0n8Wb5Fe",
        "outputId": "d100fc1f-9ec3-40b0-ae0e-e301cb5df96b"
      },
      "execution_count": null,
      "outputs": [
        {
          "output_type": "execute_result",
          "data": {
            "text/plain": [
              "(array([  2.,   1.,   0.,   5.,  45.,  72., 107.,  16.,   5.,   7.]),\n",
              " array([-5.7636376 , -4.96600183, -4.16836605, -3.37073028, -2.5730945 ,\n",
              "        -1.77545872, -0.97782295, -0.18018717,  0.6174486 ,  1.41508438,\n",
              "         2.21272015]),\n",
              " <BarContainer object of 10 artists>)"
            ]
          },
          "metadata": {},
          "execution_count": 166
        },
        {
          "output_type": "display_data",
          "data": {
            "text/plain": [
              "<Figure size 640x480 with 1 Axes>"
            ],
            "image/png": "[encoded data removed]"
          },
          "metadata": {}
        }
      ]
    },
    {
      "cell_type": "code",
      "source": [
        "plt.hist(y_test)"
      ],
      "metadata": {
        "colab": {
          "base_uri": "https://localhost:8080/",
          "height": 517
        },
        "id": "AhOITmcZb-69",
        "outputId": "5ba7ed2d-67f0-42b7-8a4d-64c5d20ccc6b"
      },
      "execution_count": null,
      "outputs": [
        {
          "output_type": "execute_result",
          "data": {
            "text/plain": [
              "(array([ 1.,  0.,  2.,  3., 13., 23., 18.,  3.,  1.,  2.]),\n",
              " array([-5.15947846, -4.42595045, -3.69242244, -2.95889443, -2.22536642,\n",
              "        -1.49183841, -0.7583104 , -0.0247824 ,  0.70874561,  1.44227362,\n",
              "         2.17580163]),\n",
              " <BarContainer object of 10 artists>)"
            ]
          },
          "metadata": {},
          "execution_count": 167
        },
        {
          "output_type": "display_data",
          "data": {
            "text/plain": [
              "<Figure size 640x480 with 1 Axes>"
            ],
            "image/png": "[encoded data removed]"
          },
          "metadata": {}
        }
      ]
    },
    {
      "cell_type": "code",
      "execution_count": null,
      "metadata": {
        "collapsed": true,
        "id": "cAf31NW1Bjrc"
      },
      "outputs": [],
      "source": [
        "# obtain model results with Lazy Predict\n",
        "reg = LazyRegressor(verbose=-1, ignore_warnings=True, custom_metric=None)\n",
        "models, predictions = reg.fit(X_train, X_test, y_train, y_test)"
      ]
    },
    {
      "cell_type": "code",
      "source": [
        "models.tail(10)"
      ],
      "metadata": {
        "colab": {
          "base_uri": "https://localhost:8080/",
          "height": 394
        },
        "id": "f8H6IlyqM-lN",
        "outputId": "b79ffa17-1531-4d92-cb15-ef6954349448"
      },
      "execution_count": null,
      "outputs": [
        {
          "output_type": "execute_result",
          "data": {
            "text/plain": [
              "                               Adjusted R-Squared  R-Squared  RMSE  Time Taken\n",
              "Model                                                                         \n",
              "LassoLarsCV                                  1.08       0.75  0.53        1.79\n",
              "LassoCV                                      1.08       0.75  0.53        5.58\n",
              "HistGradientBoostingRegressor                1.08       0.75  0.52        0.52\n",
              "ElasticNetCV                                 1.08       0.76  0.52        3.60\n",
              "LGBMRegressor                                1.08       0.76  0.52        0.11\n",
              "OrthogonalMatchingPursuit                    1.08       0.76  0.52        0.03\n",
              "BayesianRidge                                1.08       0.76  0.51        0.06\n",
              "RandomForestRegressor                        1.07       0.78  0.49        0.68\n",
              "GradientBoostingRegressor                    1.07       0.79  0.49        0.28\n",
              "XGBRegressor                                 1.07       0.81  0.46        0.17"
            ],
            "text/html": [
              "\n",
              "  <div id=\"df-1f216a57-70f4-42da-bb13-9f0cbe0703ce\" class=\"colab-df-container\">\n",
              "    <div>\n",
              "<style scoped>\n",
              "    .dataframe tbody tr th:only-of-type {\n",
              "        vertical-align: middle;\n",
              "    }\n",
              "\n",
              "    .dataframe tbody tr th {\n",
              "        vertical-align: top;\n",
              "    }\n",
              "\n",
              "    .dataframe thead th {\n",
              "        text-align: right;\n",
              "    }\n",
              "</style>\n",
              "<table border=\"1\" class=\"dataframe\">\n",
              "  <thead>\n",
              "    <tr style=\"text-align: right;\">\n",
              "      <th></th>\n",
              "      <th>Adjusted R-Squared</th>\n",
              "      <th>R-Squared</th>\n",
              "      <th>RMSE</th>\n",
              "      <th>Time Taken</th>\n",
              "    </tr>\n",
              "    <tr>\n",
              "      <th>Model</th>\n",
              "      <th></th>\n",
              "      <th></th>\n",
              "      <th></th>\n",
              "      <th></th>\n",
              "    </tr>\n",
              "  </thead>\n",
              "  <tbody>\n",
              "    <tr>\n",
              "      <th>LassoLarsCV</th>\n",
              "      <td>1.08</td>\n",
              "      <td>0.75</td>\n",
              "      <td>0.53</td>\n",
              "      <td>1.79</td>\n",
              "    </tr>\n",
              "    <tr>\n",
              "      <th>LassoCV</th>\n",
              "      <td>1.08</td>\n",
              "      <td>0.75</td>\n",
              "      <td>0.53</td>\n",
              "      <td>5.58</td>\n",
              "    </tr>\n",
              "    <tr>\n",
              "      <th>HistGradientBoostingRegressor</th>\n",
              "      <td>1.08</td>\n",
              "      <td>0.75</td>\n",
              "      <td>0.52</td>\n",
              "      <td>0.52</td>\n",
              "    </tr>\n",
              "    <tr>\n",
              "      <th>ElasticNetCV</th>\n",
              "      <td>1.08</td>\n",
              "      <td>0.76</td>\n",
              "      <td>0.52</td>\n",
              "      <td>3.60</td>\n",
              "    </tr>\n",
              "    <tr>\n",
              "      <th>LGBMRegressor</th>\n",
              "      <td>1.08</td>\n",
              "      <td>0.76</td>\n",
              "      <td>0.52</td>\n",
              "      <td>0.11</td>\n",
              "    </tr>\n",
              "    <tr>\n",
              "      <th>OrthogonalMatchingPursuit</th>\n",
              "      <td>1.08</td>\n",
              "      <td>0.76</td>\n",
              "      <td>0.52</td>\n",
              "      <td>0.03</td>\n",
              "    </tr>\n",
              "    <tr>\n",
              "      <th>BayesianRidge</th>\n",
              "      <td>1.08</td>\n",
              "      <td>0.76</td>\n",
              "      <td>0.51</td>\n",
              "      <td>0.06</td>\n",
              "    </tr>\n",
              "    <tr>\n",
              "      <th>RandomForestRegressor</th>\n",
              "      <td>1.07</td>\n",
              "      <td>0.78</td>\n",
              "      <td>0.49</td>\n",
              "      <td>0.68</td>\n",
              "    </tr>\n",
              "    <tr>\n",
              "      <th>GradientBoostingRegressor</th>\n",
              "      <td>1.07</td>\n",
              "      <td>0.79</td>\n",
              "      <td>0.49</td>\n",
              "      <td>0.28</td>\n",
              "    </tr>\n",
              "    <tr>\n",
              "      <th>XGBRegressor</th>\n",
              "      <td>1.07</td>\n",
              "      <td>0.81</td>\n",
              "      <td>0.46</td>\n",
              "      <td>0.17</td>\n",
              "    </tr>\n",
              "  </tbody>\n",
              "</table>\n",
              "</div>\n",
              "    <div class=\"colab-df-buttons\">\n",
              "\n",
              "  <div class=\"colab-df-container\">\n",
              "    <button class=\"colab-df-convert\" onclick=\"convertToInteractive('df-1f216a57-70f4-42da-bb13-9f0cbe0703ce')\"\n",
              "            title=\"Convert this dataframe to an interactive table.\"\n",
              "            style=\"display:none;\">\n",
              "\n",
              "  <svg xmlns=\"http://www.w3.org/2000/svg\" height=\"24px\" viewBox=\"0 -960 960 960\">\n",
              "    <path d=\"M120-120v-720h720v720H120Zm60-500h600v-160H180v160Zm220 220h160v-160H400v160Zm0 220h160v-160H400v160ZM180-400h160v-160H180v160Zm440 0h160v-160H620v160ZM180-180h160v-160H180v160Zm440 0h160v-160H620v160Z\"/>\n",
              "  </svg>\n",
              "    </button>\n",
              "\n",
              "  <style>\n",
              "    .colab-df-container {\n",
              "      display:flex;\n",
              "      gap: 12px;\n",
              "    }\n",
              "\n",
              "    .colab-df-convert {\n",
              "      background-color: #E8F0FE;\n",
              "      border: none;\n",
              "      border-radius: 50%;\n",
              "      cursor: pointer;\n",
              "      display: none;\n",
              "      fill: #1967D2;\n",
              "      height: 32px;\n",
              "      padding: 0 0 0 0;\n",
              "      width: 32px;\n",
              "    }\n",
              "\n",
              "    .colab-df-convert:hover {\n",
              "      background-color: #E2EBFA;\n",
              "      box-shadow: 0px 1px 2px rgba(60, 64, 67, 0.3), 0px 1px 3px 1px rgba(60, 64, 67, 0.15);\n",
              "      fill: #174EA6;\n",
              "    }\n",
              "\n",
              "    .colab-df-buttons div {\n",
              "      margin-bottom: 4px;\n",
              "    }\n",
              "\n",
              "    [theme=dark] .colab-df-convert {\n",
              "      background-color: #3B4455;\n",
              "      fill: #D2E3FC;\n",
              "    }\n",
              "\n",
              "    [theme=dark] .colab-df-convert:hover {\n",
              "      background-color: #434B5C;\n",
              "      box-shadow: 0px 1px 3px 1px rgba(0, 0, 0, 0.15);\n",
              "      filter: drop-shadow(0px 1px 2px rgba(0, 0, 0, 0.3));\n",
              "      fill: #FFFFFF;\n",
              "    }\n",
              "  </style>\n",
              "\n",
              "    <script>\n",
              "      const buttonEl =\n",
              "        document.querySelector('#df-1f216a57-70f4-42da-bb13-9f0cbe0703ce button.colab-df-convert');\n",
              "      buttonEl.style.display =\n",
              "        google.colab.kernel.accessAllowed ? 'block' : 'none';\n",
              "\n",
              "      async function convertToInteractive(key) {\n",
              "        const element = document.querySelector('#df-1f216a57-70f4-42da-bb13-9f0cbe0703ce');\n",
              "        const dataTable =\n",
              "          await google.colab.kernel.invokeFunction('convertToInteractive',\n",
              "                                                    [key], {});\n",
              "        if (!dataTable) return;\n",
              "\n",
              "        const docLinkHtml = 'Like what you see? Visit the ' +\n",
              "          '<a target=\"_blank\" href=https://colab.research.google.com/notebooks/data_table.ipynb>data table notebook</a>'\n",
              "          + ' to learn more about interactive tables.';\n",
              "        element.innerHTML = '';\n",
              "        dataTable['output_type'] = 'display_data';\n",
              "        await google.colab.output.renderOutput(dataTable, element);\n",
              "        const docLink = document.createElement('div');\n",
              "        docLink.innerHTML = docLinkHtml;\n",
              "        element.appendChild(docLink);\n",
              "      }\n",
              "    </script>\n",
              "  </div>\n",
              "\n",
              "\n",
              "<div id=\"df-884e42b1-abc5-4af1-bbd3-89b726ea9316\">\n",
              "  <button class=\"colab-df-quickchart\" onclick=\"quickchart('df-884e42b1-abc5-4af1-bbd3-89b726ea9316')\"\n",
              "            title=\"Suggest charts\"\n",
              "            style=\"display:none;\">\n",
              "\n",
              "<svg xmlns=\"http://www.w3.org/2000/svg\" height=\"24px\"viewBox=\"0 0 24 24\"\n",
              "     width=\"24px\">\n",
              "    <g>\n",
              "        <path d=\"M19 3H5c-1.1 0-2 .9-2 2v14c0 1.1.9 2 2 2h14c1.1 0 2-.9 2-2V5c0-1.1-.9-2-2-2zM9 17H7v-7h2v7zm4 0h-2V7h2v10zm4 0h-2v-4h2v4z\"/>\n",
              "    </g>\n",
              "</svg>\n",
              "  </button>\n",
              "\n",
              "<style>\n",
              "  .colab-df-quickchart {\n",
              "      --bg-color: #E8F0FE;\n",
              "      --fill-color: #1967D2;\n",
              "      --hover-bg-color: #E2EBFA;\n",
              "      --hover-fill-color: #174EA6;\n",
              "      --disabled-fill-color: #AAA;\n",
              "      --disabled-bg-color: #DDD;\n",
              "  }\n",
              "\n",
              "  [theme=dark] .colab-df-quickchart {\n",
              "      --bg-color: #3B4455;\n",
              "      --fill-color: #D2E3FC;\n",
              "      --hover-bg-color: #434B5C;\n",
              "      --hover-fill-color: #FFFFFF;\n",
              "      --disabled-bg-color: #3B4455;\n",
              "      --disabled-fill-color: #666;\n",
              "  }\n",
              "\n",
              "  .colab-df-quickchart {\n",
              "    background-color: var(--bg-color);\n",
              "    border: none;\n",
              "    border-radius: 50%;\n",
              "    cursor: pointer;\n",
              "    display: none;\n",
              "    fill: var(--fill-color);\n",
              "    height: 32px;\n",
              "    padding: 0;\n",
              "    width: 32px;\n",
              "  }\n",
              "\n",
              "  .colab-df-quickchart:hover {\n",
              "    background-color: var(--hover-bg-color);\n",
              "    box-shadow: 0 1px 2px rgba(60, 64, 67, 0.3), 0 1px 3px 1px rgba(60, 64, 67, 0.15);\n",
              "    fill: var(--button-hover-fill-color);\n",
              "  }\n",
              "\n",
              "  .colab-df-quickchart-complete:disabled,\n",
              "  .colab-df-quickchart-complete:disabled:hover {\n",
              "    background-color: var(--disabled-bg-color);\n",
              "    fill: var(--disabled-fill-color);\n",
              "    box-shadow: none;\n",
              "  }\n",
              "\n",
              "  .colab-df-spinner {\n",
              "    border: 2px solid var(--fill-color);\n",
              "    border-color: transparent;\n",
              "    border-bottom-color: var(--fill-color);\n",
              "    animation:\n",
              "      spin 1s steps(1) infinite;\n",
              "  }\n",
              "\n",
              "  @keyframes spin {\n",
              "    0% {\n",
              "      border-color: transparent;\n",
              "      border-bottom-color: var(--fill-color);\n",
              "      border-left-color: var(--fill-color);\n",
              "    }\n",
              "    20% {\n",
              "      border-color: transparent;\n",
              "      border-left-color: var(--fill-color);\n",
              "      border-top-color: var(--fill-color);\n",
              "    }\n",
              "    30% {\n",
              "      border-color: transparent;\n",
              "      border-left-color: var(--fill-color);\n",
              "      border-top-color: var(--fill-color);\n",
              "      border-right-color: var(--fill-color);\n",
              "    }\n",
              "    40% {\n",
              "      border-color: transparent;\n",
              "      border-right-color: var(--fill-color);\n",
              "      border-top-color: var(--fill-color);\n",
              "    }\n",
              "    60% {\n",
              "      border-color: transparent;\n",
              "      border-right-color: var(--fill-color);\n",
              "    }\n",
              "    80% {\n",
              "      border-color: transparent;\n",
              "      border-right-color: var(--fill-color);\n",
              "      border-bottom-color: var(--fill-color);\n",
              "    }\n",
              "    90% {\n",
              "      border-color: transparent;\n",
              "      border-bottom-color: var(--fill-color);\n",
              "    }\n",
              "  }\n",
              "</style>\n",
              "\n",
              "  <script>\n",
              "    async function quickchart(key) {\n",
              "      const quickchartButtonEl =\n",
              "        document.querySelector('#' + key + ' button');\n",
              "      quickchartButtonEl.disabled = true;  // To prevent multiple clicks.\n",
              "      quickchartButtonEl.classList.add('colab-df-spinner');\n",
              "      try {\n",
              "        const charts = await google.colab.kernel.invokeFunction(\n",
              "            'suggestCharts', [key], {});\n",
              "      } catch (error) {\n",
              "        console.error('Error during call to suggestCharts:', error);\n",
              "      }\n",
              "      quickchartButtonEl.classList.remove('colab-df-spinner');\n",
              "      quickchartButtonEl.classList.add('colab-df-quickchart-complete');\n",
              "    }\n",
              "    (() => {\n",
              "      let quickchartButtonEl =\n",
              "        document.querySelector('#df-884e42b1-abc5-4af1-bbd3-89b726ea9316 button');\n",
              "      quickchartButtonEl.style.display =\n",
              "        google.colab.kernel.accessAllowed ? 'block' : 'none';\n",
              "    })();\n",
              "  </script>\n",
              "</div>\n",
              "    </div>\n",
              "  </div>\n"
            ],
            "application/vnd.google.colaboratory.intrinsic+json": {
              "type": "dataframe",
              "summary": "{\n  \"name\": \"models\",\n  \"rows\": 10,\n  \"fields\": [\n    {\n      \"column\": \"Model\",\n      \"properties\": {\n        \"dtype\": \"string\",\n        \"num_unique_values\": 10,\n        \"samples\": [\n          \"GradientBoostingRegressor\",\n          \"LassoCV\",\n          \"OrthogonalMatchingPursuit\"\n        ],\n        \"semantic_type\": \"\",\n        \"description\": \"\"\n      }\n    },\n    {\n      \"column\": \"Adjusted R-Squared\",\n      \"properties\": {\n        \"dtype\": \"number\",\n        \"std\": 0.0063245016705267875,\n        \"min\": 1.0650964426238931,\n        \"max\": 1.084471545755874,\n        \"num_unique_values\": 10,\n        \"samples\": [\n          1.0728636468768344,\n          1.0844419902717723,\n          1.0811371254353515\n        ],\n        \"semantic_type\": \"\",\n        \"description\": \"\"\n      }\n    },\n    {\n      \"column\": \"R-Squared\",\n      \"properties\": {\n        \"dtype\": \"number\",\n        \"std\": 0.018584304908778614,\n        \"min\": 0.7517836117019705,\n        \"max\": 0.8087166070590217,\n        \"num_unique_values\": 10,\n        \"samples\": [\n          0.7858929761003786,\n          0.7518704593552539,\n          0.7615816775668907\n        ],\n        \"semantic_type\": \"\",\n        \"description\": \"\"\n      }\n    },\n    {\n      \"column\": \"RMSE\",\n      \"properties\": {\n        \"dtype\": \"number\",\n        \"std\": 0.020885491474786244,\n        \"min\": 0.46203590248132476,\n        \"max\": 0.5263229607364751,\n        \"num_unique_values\": 10,\n        \"samples\": [\n          0.48882403073606523,\n          0.5262308759362997,\n          0.5158303655834935\n        ],\n        \"semantic_type\": \"\",\n        \"description\": \"\"\n      }\n    },\n    {\n      \"column\": \"Time Taken\",\n      \"properties\": {\n        \"dtype\": \"number\",\n        \"std\": 1.8764914616550985,\n        \"min\": 0.03091287612915039,\n        \"max\": 5.575408935546875,\n        \"num_unique_values\": 10,\n        \"samples\": [\n          0.2846386432647705,\n          5.575408935546875,\n          0.03091287612915039\n        ],\n        \"semantic_type\": \"\",\n        \"description\": \"\"\n      }\n    }\n  ]\n}"
            }
          },
          "metadata": {},
          "execution_count": 103
        }
      ]
    },
    {
      "cell_type": "markdown",
      "source": [
        "### XGB"
      ],
      "metadata": {
        "id": "uRZymmWCSFpU"
      }
    },
    {
      "cell_type": "code",
      "source": [
        "def grid_search_and_test(exp_name, param_grid, estimator, X_train, y_train, X_test, y_test):\n",
        "\n",
        "  print('Performing grid_search...')\n",
        "  search = GridSearchCV(estimator=estimator,\n",
        "                      param_grid=param_grid,\n",
        "                      scoring=['neg_mean_squared_error','r2'],\n",
        "                      refit='neg_mean_squared_error',\n",
        "                      n_jobs=1,\n",
        "                      cv=KFold(n_splits=5, shuffle=True, random_state=42))\n",
        "  search.fit(X_train, y_train)\n",
        "  results = pd.DataFrame(search.cv_results_)\n",
        "  results.to_csv(f'{exp_name}.csv')\n",
        "  best_results = results[results.rank_test_neg_mean_squared_error==1]\n",
        "\n",
        "  print('Testing the best model...')\n",
        "  print('Best params:', search.best_params_)\n",
        "  model = search.best_estimator_\n",
        "  model.fit(X_train, y_train)\n",
        "\n",
        "  y_train_pred = model.predict(X_train)\n",
        "  y_test_pred = model.predict(X_test)\n",
        "\n",
        "  print(f'R2 cross val: {best_results.mean_test_r2.tolist()[0]} +- {best_results.std_test_r2.tolist()[0]}')\n",
        "  print(f'RMSE cross val: {best_results.mean_test_neg_mean_squared_error.tolist()[0]} +- {best_results.std_test_neg_mean_squared_error.tolist()[0]}')\n",
        "  print('R2 train:', r2_score(y_train, y_train_pred))\n",
        "  print('RMSE train:', mean_squared_error(y_train, y_train_pred))\n",
        "  print('R2 test:', r2_score(y_test, y_test_pred))\n",
        "  print('RMSE test:', mean_squared_error(y_test, y_test_pred))"
      ],
      "metadata": {
        "id": "EOc7pMKXtaPw"
      },
      "execution_count": null,
      "outputs": []
    },
    {
      "cell_type": "code",
      "source": [
        "param_grid = {\n",
        "        'n_estimators':[100, 200, 300, 400, 500],\n",
        "        'learning_rate':[.001,0.01,.1],\n",
        "        'gamma': [0.5, 1, 1.5, 2],\n",
        "        'subsample': [.5,.75,1],\n",
        "        'max_depth': [1,2,4]\n",
        "        }\n",
        "\n",
        "grid_search_and_test('MFP_XGB', param_grid, XGBRegressor(random_state=42), X_train, y_train, X_test, y_test)"
      ],
      "metadata": {
        "colab": {
          "base_uri": "https://localhost:8080/"
        },
        "id": "mf_dibLjv5-C",
        "outputId": "bbb343b2-fd2e-4677-be36-17c05b665074"
      },
      "execution_count": null,
      "outputs": [
        {
          "output_type": "stream",
          "name": "stdout",
          "text": [
            "Performing grid_search...\n",
            "Testing the best model...\n",
            "Best params: {'gamma': 1, 'learning_rate': 0.1, 'max_depth': 2, 'n_estimators': 400, 'random_state': 42, 'subsample': 0.5}\n",
            "R2 cross val: 0.6337263573581524 +- 0.14529517183612606\n",
            "RMSE cross val: -0.31151167824021414 +- 0.08914452659066674\n",
            "R2 train: 0.8400416115343451\n",
            "RMSE train: 0.14758379572252775\n",
            "R2 test: 0.779521367114267\n",
            "RMSE test: 0.24605981215995754\n"
          ]
        }
      ]
    },
    {
      "cell_type": "markdown",
      "source": [
        "\n",
        "### GradientBoosting"
      ],
      "metadata": {
        "id": "nVe2P8HTWkKe"
      }
    },
    {
      "cell_type": "code",
      "source": [
        "param_grid = {'n_estimators':[100, 200, 300, 400, 500],\n",
        "               'learning_rate':[.001,0.01,.1],\n",
        "               'max_depth':[1, 2, 4],\n",
        "               'subsample':[.5,.75,1]}\n",
        "\n",
        "grid_search_and_test('MFP_GB', param_grid, GradientBoostingRegressor(random_state=42), X_train, y_train, X_test, y_test)"
      ],
      "metadata": {
        "colab": {
          "base_uri": "https://localhost:8080/"
        },
        "id": "34NSNic1waaw",
        "outputId": "986d786f-bf2f-4d2a-a005-2276dcdf5eae"
      },
      "execution_count": null,
      "outputs": [
        {
          "output_type": "stream",
          "name": "stdout",
          "text": [
            "Performing grid_search...\n",
            "Testing the best model...\n",
            "Best params: {'learning_rate': 0.1, 'max_depth': 2, 'n_estimators': 100, 'subsample': 0.5}\n",
            "R2 cross val: 0.5974365222262252 +- 0.22842312216570168\n",
            "RMSE cross val: -0.3337979599643627 +- 0.13633672838252084\n",
            "R2 train: 0.8545047797181212\n",
            "RMSE train: 0.1342395173810809\n",
            "R2 test: 0.809909092800011\n",
            "RMSE test: 0.21214633049356105\n"
          ]
        }
      ]
    },
    {
      "cell_type": "code",
      "source": [
        "params = {'learning_rate': 0.1, 'max_depth': 2, 'n_estimators': 100, 'subsample': 0.5}\n",
        "model = GradientBoostingRegressor(random_state=42, **params)\n",
        "model.fit(X_train, y_train)\n",
        "\n",
        "y_train_pred = model.predict(X_train)\n",
        "y_test_pred = model.predict(X_test)\n",
        "\n",
        "print('R2 train:', r2_score(y_train, y_train_pred))\n",
        "print('RMSE train:', mean_squared_error(y_train, y_train_pred))\n",
        "print('R2 test:', r2_score(y_test, y_test_pred))\n",
        "print('RMSE test:', mean_squared_error(y_test, y_test_pred))"
      ],
      "metadata": {
        "colab": {
          "base_uri": "https://localhost:8080/"
        },
        "outputId": "f0824cbe-e6ca-454a-ebbb-dfaf63c7cabe",
        "id": "h8Mow8SlDPa8"
      },
      "execution_count": null,
      "outputs": [
        {
          "output_type": "stream",
          "name": "stdout",
          "text": [
            "R2 train: 0.8545047797181212\n",
            "RMSE train: 0.1342395173810809\n",
            "R2 test: 0.809909092800011\n",
            "RMSE test: 0.21214633049356105\n"
          ]
        }
      ]
    },
    {
      "cell_type": "code",
      "source": [
        "import pickle\n",
        "pickle.dump(model, open('benz_model_gb.pkl', 'wb'))"
      ],
      "metadata": {
        "id": "uzj6h0M8DLIc"
      },
      "execution_count": null,
      "outputs": []
    },
    {
      "cell_type": "markdown",
      "source": [
        "#### Plot"
      ],
      "metadata": {
        "id": "Im6iab_5Yonh"
      }
    },
    {
      "cell_type": "code",
      "source": [
        "y_pred = np.concatenate((y_test_pred, y_train_pred), axis=None)\n",
        "y_true = np.concatenate((y_test.to_numpy(), y_train.to_numpy()), axis=None)"
      ],
      "metadata": {
        "id": "ZFLVTIufF3hT"
      },
      "execution_count": null,
      "outputs": []
    },
    {
      "cell_type": "code",
      "source": [
        "plot_df = pd.DataFrame()\n",
        "plot_df['y_true'] = y_true[::-1]\n",
        "plot_df['y_pred'] = y_pred[::-1]\n",
        "subset = ['test' for i in range(len(y_test))]+['train' for i in range(len(y_train))]\n",
        "plot_df['subset'] = subset[::-1]\n",
        "plot_df.head()"
      ],
      "metadata": {
        "colab": {
          "base_uri": "https://localhost:8080/",
          "height": 206
        },
        "id": "4QouHMooFN8v",
        "outputId": "e2d37827-ac23-4b62-9741-ba63d85f4ede"
      },
      "execution_count": null,
      "outputs": [
        {
          "output_type": "execute_result",
          "data": {
            "text/plain": [
              "   y_true  y_pred subset\n",
              "0   -0.35   -1.12  train\n",
              "1   -1.19   -1.28  train\n",
              "2   -0.88   -1.51  train\n",
              "3   -1.25   -0.95  train\n",
              "4   -2.28   -2.27  train"
            ],
            "text/html": [
              "\n",
              "  <div id=\"df-727565ef-2e9b-4728-bfc3-e16911ed2ed0\" class=\"colab-df-container\">\n",
              "    <div>\n",
              "<style scoped>\n",
              "    .dataframe tbody tr th:only-of-type {\n",
              "        vertical-align: middle;\n",
              "    }\n",
              "\n",
              "    .dataframe tbody tr th {\n",
              "        vertical-align: top;\n",
              "    }\n",
              "\n",
              "    .dataframe thead th {\n",
              "        text-align: right;\n",
              "    }\n",
              "</style>\n",
              "<table border=\"1\" class=\"dataframe\">\n",
              "  <thead>\n",
              "    <tr style=\"text-align: right;\">\n",
              "      <th></th>\n",
              "      <th>y_true</th>\n",
              "      <th>y_pred</th>\n",
              "      <th>subset</th>\n",
              "    </tr>\n",
              "  </thead>\n",
              "  <tbody>\n",
              "    <tr>\n",
              "      <th>0</th>\n",
              "      <td>-0.35</td>\n",
              "      <td>-1.12</td>\n",
              "      <td>train</td>\n",
              "    </tr>\n",
              "    <tr>\n",
              "      <th>1</th>\n",
              "      <td>-1.19</td>\n",
              "      <td>-1.28</td>\n",
              "      <td>train</td>\n",
              "    </tr>\n",
              "    <tr>\n",
              "      <th>2</th>\n",
              "      <td>-0.88</td>\n",
              "      <td>-1.51</td>\n",
              "      <td>train</td>\n",
              "    </tr>\n",
              "    <tr>\n",
              "      <th>3</th>\n",
              "      <td>-1.25</td>\n",
              "      <td>-0.95</td>\n",
              "      <td>train</td>\n",
              "    </tr>\n",
              "    <tr>\n",
              "      <th>4</th>\n",
              "      <td>-2.28</td>\n",
              "      <td>-2.27</td>\n",
              "      <td>train</td>\n",
              "    </tr>\n",
              "  </tbody>\n",
              "</table>\n",
              "</div>\n",
              "    <div class=\"colab-df-buttons\">\n",
              "\n",
              "  <div class=\"colab-df-container\">\n",
              "    <button class=\"colab-df-convert\" onclick=\"convertToInteractive('df-727565ef-2e9b-4728-bfc3-e16911ed2ed0')\"\n",
              "            title=\"Convert this dataframe to an interactive table.\"\n",
              "            style=\"display:none;\">\n",
              "\n",
              "  <svg xmlns=\"http://www.w3.org/2000/svg\" height=\"24px\" viewBox=\"0 -960 960 960\">\n",
              "    <path d=\"M120-120v-720h720v720H120Zm60-500h600v-160H180v160Zm220 220h160v-160H400v160Zm0 220h160v-160H400v160ZM180-400h160v-160H180v160Zm440 0h160v-160H620v160ZM180-180h160v-160H180v160Zm440 0h160v-160H620v160Z\"/>\n",
              "  </svg>\n",
              "    </button>\n",
              "\n",
              "  <style>\n",
              "    .colab-df-container {\n",
              "      display:flex;\n",
              "      gap: 12px;\n",
              "    }\n",
              "\n",
              "    .colab-df-convert {\n",
              "      background-color: #E8F0FE;\n",
              "      border: none;\n",
              "      border-radius: 50%;\n",
              "      cursor: pointer;\n",
              "      display: none;\n",
              "      fill: #1967D2;\n",
              "      height: 32px;\n",
              "      padding: 0 0 0 0;\n",
              "      width: 32px;\n",
              "    }\n",
              "\n",
              "    .colab-df-convert:hover {\n",
              "      background-color: #E2EBFA;\n",
              "      box-shadow: 0px 1px 2px rgba(60, 64, 67, 0.3), 0px 1px 3px 1px rgba(60, 64, 67, 0.15);\n",
              "      fill: #174EA6;\n",
              "    }\n",
              "\n",
              "    .colab-df-buttons div {\n",
              "      margin-bottom: 4px;\n",
              "    }\n",
              "\n",
              "    [theme=dark] .colab-df-convert {\n",
              "      background-color: #3B4455;\n",
              "      fill: #D2E3FC;\n",
              "    }\n",
              "\n",
              "    [theme=dark] .colab-df-convert:hover {\n",
              "      background-color: #434B5C;\n",
              "      box-shadow: 0px 1px 3px 1px rgba(0, 0, 0, 0.15);\n",
              "      filter: drop-shadow(0px 1px 2px rgba(0, 0, 0, 0.3));\n",
              "      fill: #FFFFFF;\n",
              "    }\n",
              "  </style>\n",
              "\n",
              "    <script>\n",
              "      const buttonEl =\n",
              "        document.querySelector('#df-727565ef-2e9b-4728-bfc3-e16911ed2ed0 button.colab-df-convert');\n",
              "      buttonEl.style.display =\n",
              "        google.colab.kernel.accessAllowed ? 'block' : 'none';\n",
              "\n",
              "      async function convertToInteractive(key) {\n",
              "        const element = document.querySelector('#df-727565ef-2e9b-4728-bfc3-e16911ed2ed0');\n",
              "        const dataTable =\n",
              "          await google.colab.kernel.invokeFunction('convertToInteractive',\n",
              "                                                    [key], {});\n",
              "        if (!dataTable) return;\n",
              "\n",
              "        const docLinkHtml = 'Like what you see? Visit the ' +\n",
              "          '<a target=\"_blank\" href=https://colab.research.google.com/notebooks/data_table.ipynb>data table notebook</a>'\n",
              "          + ' to learn more about interactive tables.';\n",
              "        element.innerHTML = '';\n",
              "        dataTable['output_type'] = 'display_data';\n",
              "        await google.colab.output.renderOutput(dataTable, element);\n",
              "        const docLink = document.createElement('div');\n",
              "        docLink.innerHTML = docLinkHtml;\n",
              "        element.appendChild(docLink);\n",
              "      }\n",
              "    </script>\n",
              "  </div>\n",
              "\n",
              "\n",
              "<div id=\"df-3f8b8593-6e9a-4026-995d-e9b74a9ff7d3\">\n",
              "  <button class=\"colab-df-quickchart\" onclick=\"quickchart('df-3f8b8593-6e9a-4026-995d-e9b74a9ff7d3')\"\n",
              "            title=\"Suggest charts\"\n",
              "            style=\"display:none;\">\n",
              "\n",
              "<svg xmlns=\"http://www.w3.org/2000/svg\" height=\"24px\"viewBox=\"0 0 24 24\"\n",
              "     width=\"24px\">\n",
              "    <g>\n",
              "        <path d=\"M19 3H5c-1.1 0-2 .9-2 2v14c0 1.1.9 2 2 2h14c1.1 0 2-.9 2-2V5c0-1.1-.9-2-2-2zM9 17H7v-7h2v7zm4 0h-2V7h2v10zm4 0h-2v-4h2v4z\"/>\n",
              "    </g>\n",
              "</svg>\n",
              "  </button>\n",
              "\n",
              "<style>\n",
              "  .colab-df-quickchart {\n",
              "      --bg-color: #E8F0FE;\n",
              "      --fill-color: #1967D2;\n",
              "      --hover-bg-color: #E2EBFA;\n",
              "      --hover-fill-color: #174EA6;\n",
              "      --disabled-fill-color: #AAA;\n",
              "      --disabled-bg-color: #DDD;\n",
              "  }\n",
              "\n",
              "  [theme=dark] .colab-df-quickchart {\n",
              "      --bg-color: #3B4455;\n",
              "      --fill-color: #D2E3FC;\n",
              "      --hover-bg-color: #434B5C;\n",
              "      --hover-fill-color: #FFFFFF;\n",
              "      --disabled-bg-color: #3B4455;\n",
              "      --disabled-fill-color: #666;\n",
              "  }\n",
              "\n",
              "  .colab-df-quickchart {\n",
              "    background-color: var(--bg-color);\n",
              "    border: none;\n",
              "    border-radius: 50%;\n",
              "    cursor: pointer;\n",
              "    display: none;\n",
              "    fill: var(--fill-color);\n",
              "    height: 32px;\n",
              "    padding: 0;\n",
              "    width: 32px;\n",
              "  }\n",
              "\n",
              "  .colab-df-quickchart:hover {\n",
              "    background-color: var(--hover-bg-color);\n",
              "    box-shadow: 0 1px 2px rgba(60, 64, 67, 0.3), 0 1px 3px 1px rgba(60, 64, 67, 0.15);\n",
              "    fill: var(--button-hover-fill-color);\n",
              "  }\n",
              "\n",
              "  .colab-df-quickchart-complete:disabled,\n",
              "  .colab-df-quickchart-complete:disabled:hover {\n",
              "    background-color: var(--disabled-bg-color);\n",
              "    fill: var(--disabled-fill-color);\n",
              "    box-shadow: none;\n",
              "  }\n",
              "\n",
              "  .colab-df-spinner {\n",
              "    border: 2px solid var(--fill-color);\n",
              "    border-color: transparent;\n",
              "    border-bottom-color: var(--fill-color);\n",
              "    animation:\n",
              "      spin 1s steps(1) infinite;\n",
              "  }\n",
              "\n",
              "  @keyframes spin {\n",
              "    0% {\n",
              "      border-color: transparent;\n",
              "      border-bottom-color: var(--fill-color);\n",
              "      border-left-color: var(--fill-color);\n",
              "    }\n",
              "    20% {\n",
              "      border-color: transparent;\n",
              "      border-left-color: var(--fill-color);\n",
              "      border-top-color: var(--fill-color);\n",
              "    }\n",
              "    30% {\n",
              "      border-color: transparent;\n",
              "      border-left-color: var(--fill-color);\n",
              "      border-top-color: var(--fill-color);\n",
              "      border-right-color: var(--fill-color);\n",
              "    }\n",
              "    40% {\n",
              "      border-color: transparent;\n",
              "      border-right-color: var(--fill-color);\n",
              "      border-top-color: var(--fill-color);\n",
              "    }\n",
              "    60% {\n",
              "      border-color: transparent;\n",
              "      border-right-color: var(--fill-color);\n",
              "    }\n",
              "    80% {\n",
              "      border-color: transparent;\n",
              "      border-right-color: var(--fill-color);\n",
              "      border-bottom-color: var(--fill-color);\n",
              "    }\n",
              "    90% {\n",
              "      border-color: transparent;\n",
              "      border-bottom-color: var(--fill-color);\n",
              "    }\n",
              "  }\n",
              "</style>\n",
              "\n",
              "  <script>\n",
              "    async function quickchart(key) {\n",
              "      const quickchartButtonEl =\n",
              "        document.querySelector('#' + key + ' button');\n",
              "      quickchartButtonEl.disabled = true;  // To prevent multiple clicks.\n",
              "      quickchartButtonEl.classList.add('colab-df-spinner');\n",
              "      try {\n",
              "        const charts = await google.colab.kernel.invokeFunction(\n",
              "            'suggestCharts', [key], {});\n",
              "      } catch (error) {\n",
              "        console.error('Error during call to suggestCharts:', error);\n",
              "      }\n",
              "      quickchartButtonEl.classList.remove('colab-df-spinner');\n",
              "      quickchartButtonEl.classList.add('colab-df-quickchart-complete');\n",
              "    }\n",
              "    (() => {\n",
              "      let quickchartButtonEl =\n",
              "        document.querySelector('#df-3f8b8593-6e9a-4026-995d-e9b74a9ff7d3 button');\n",
              "      quickchartButtonEl.style.display =\n",
              "        google.colab.kernel.accessAllowed ? 'block' : 'none';\n",
              "    })();\n",
              "  </script>\n",
              "</div>\n",
              "\n",
              "    </div>\n",
              "  </div>\n"
            ],
            "application/vnd.google.colaboratory.intrinsic+json": {
              "type": "dataframe",
              "variable_name": "plot_df",
              "summary": "{\n  \"name\": \"plot_df\",\n  \"rows\": 326,\n  \"fields\": [\n    {\n      \"column\": \"y_true\",\n      \"properties\": {\n        \"dtype\": \"number\",\n        \"std\": 0.982229449332341,\n        \"min\": -5.763637602376833,\n        \"max\": 2.212720154417842,\n        \"num_unique_values\": 295,\n        \"samples\": [\n          0.6053050461411095,\n          -0.7741892965205204,\n          -1.6765518693508397\n        ],\n        \"semantic_type\": \"\",\n        \"description\": \"\"\n      }\n    },\n    {\n      \"column\": \"y_pred\",\n      \"properties\": {\n        \"dtype\": \"number\",\n        \"std\": 0.8609798686743662,\n        \"min\": -5.375766328789063,\n        \"max\": 1.9077618643223504,\n        \"num_unique_values\": 291,\n        \"samples\": [\n          -1.7598144494603936,\n          -1.4809752479764182,\n          -1.1289141830950487\n        ],\n        \"semantic_type\": \"\",\n        \"description\": \"\"\n      }\n    },\n    {\n      \"column\": \"subset\",\n      \"properties\": {\n        \"dtype\": \"category\",\n        \"num_unique_values\": 2,\n        \"samples\": [\n          \"test\",\n          \"train\"\n        ],\n        \"semantic_type\": \"\",\n        \"description\": \"\"\n      }\n    }\n  ]\n}"
            }
          },
          "metadata": {},
          "execution_count": 123
        }
      ]
    },
    {
      "cell_type": "code",
      "source": [
        "import seaborn as sns\n",
        "\n",
        "ax = sns.lmplot(x = \"y_true\", y = \"y_pred\",\n",
        "           hue = \"subset\", data = plot_df, scatter_kws={'linewidths':0.7,'edgecolor':'black'}, legend=False,\n",
        "                palette=['hotpink', 'gray'], height=4, aspect=1.2)\n",
        "ax.set(xlabel='Experimental lgMIC', ylabel='Predicted lgMIC')\n",
        "plt.legend(loc='upper left')\n",
        "plt.savefig('regression.png', dpi=500)"
      ],
      "metadata": {
        "colab": {
          "base_uri": "https://localhost:8080/",
          "height": 407
        },
        "id": "GL_35djEE0du",
        "outputId": "5d769eab-3c03-4f98-9ce7-dfc46e3d5576"
      },
      "execution_count": null,
      "outputs": [
        {
          "output_type": "display_data",
          "data": {
            "text/plain": [
              "<Figure size 480x400 with 1 Axes>"
            ],
            "image/png": "[encoded data removed]"
          },
          "metadata": {}
        }
      ]
    },
    {
      "cell_type": "markdown",
      "source": [
        "#### Metrics for outliers"
      ],
      "metadata": {
        "id": "V5Liq1nXYtn1"
      }
    },
    {
      "cell_type": "code",
      "source": [
        "df_ecoli.reset_index(drop=True, inplace=True)\n",
        "\n",
        "# detach the dataset without outliers\n",
        "Q1 = df_ecoli['lgMIC'].quantile(0.25)\n",
        "Q3 = df_ecoli['lgMIC'].quantile(0.75)\n",
        "IQR = Q3 - Q1\n",
        "\n",
        "filter = (df_ecoli['lgMIC'] >= Q1 - 1.5 * IQR) & (df_ecoli['lgMIC'] <= Q3 + 1.5 *IQR)\n",
        "data = df_ecoli.loc[filter]\n",
        "len(data.index)"
      ],
      "metadata": {
        "colab": {
          "base_uri": "https://localhost:8080/"
        },
        "id": "oovY_e_SYiOi",
        "outputId": "8b3adb0e-2c75-4c72-b5c6-162f5067855d"
      },
      "execution_count": null,
      "outputs": [
        {
          "output_type": "execute_result",
          "data": {
            "text/plain": [
              "311"
            ]
          },
          "metadata": {},
          "execution_count": 175
        }
      ]
    },
    {
      "cell_type": "code",
      "source": [
        "data.lgMIC.hist(bins=30)"
      ],
      "metadata": {
        "colab": {
          "base_uri": "https://localhost:8080/",
          "height": 447
        },
        "id": "7tpHLHuQaPI6",
        "outputId": "ec826494-6050-421e-e4ef-79525be3a308"
      },
      "execution_count": null,
      "outputs": [
        {
          "output_type": "execute_result",
          "data": {
            "text/plain": [
              "<Axes: >"
            ]
          },
          "metadata": {},
          "execution_count": 176
        },
        {
          "output_type": "display_data",
          "data": {
            "text/plain": [
              "<Figure size 640x480 with 1 Axes>"
            ],
            "image/png": "[encoded data removed]"
          },
          "metadata": {}
        }
      ]
    },
    {
      "cell_type": "code",
      "source": [
        "df_ecoli.shape"
      ],
      "metadata": {
        "colab": {
          "base_uri": "https://localhost:8080/"
        },
        "id": "NBAI7ck5aehB",
        "outputId": "50831551-7824-4600-e152-3d750079d189"
      },
      "execution_count": null,
      "outputs": [
        {
          "output_type": "execute_result",
          "data": {
            "text/plain": [
              "(326, 13)"
            ]
          },
          "metadata": {},
          "execution_count": 177
        }
      ]
    },
    {
      "cell_type": "code",
      "source": [
        "data1 = df_ecoli[df_ecoli.smiles.isin(data.smiles.tolist())==False]\n",
        "data1.shape"
      ],
      "metadata": {
        "colab": {
          "base_uri": "https://localhost:8080/"
        },
        "id": "v9GJx43mY_LS",
        "outputId": "32c87458-0719-4907-e859-30973d9b3df0"
      },
      "execution_count": null,
      "outputs": [
        {
          "output_type": "execute_result",
          "data": {
            "text/plain": [
              "(15, 13)"
            ]
          },
          "metadata": {},
          "execution_count": 178
        }
      ]
    },
    {
      "cell_type": "code",
      "source": [
        "X_train_outliers = np.stack(data1[data1.subset=='train'].fp.apply(lambda x: np.array(x)).to_numpy()).astype(np.float64)\n",
        "y_train_outliers = data1[data1.subset=='train']['lgMIC']\n",
        "\n",
        "X_test_outliers = np.stack(data1[data1.subset=='test'].fp.apply(lambda x: np.array(x)).to_numpy()).astype(np.float64)\n",
        "y_test_outliers = data1[data1.subset=='test']['lgMIC']\n",
        "\n",
        "y_outliers_train_pred = model.predict(X_train_outliers)\n",
        "y_outliers_test_pred = model.predict(X_test_outliers)\n",
        "\n",
        "print('R2 train outliers:', r2_score(y_train_outliers, y_outliers_train_pred))\n",
        "print('RMSE train outliers:', mean_squared_error(y_train_outliers, y_outliers_train_pred))\n",
        "print('R2 test outliers:', r2_score(y_test_outliers, y_outliers_test_pred))\n",
        "print('RMSE test outliers:', mean_squared_error(y_test_outliers, y_outliers_test_pred))"
      ],
      "metadata": {
        "colab": {
          "base_uri": "https://localhost:8080/"
        },
        "id": "v1dj_ecsam_t",
        "outputId": "4126917e-f543-4988-e4bd-b53ce0832765"
      },
      "execution_count": null,
      "outputs": [
        {
          "output_type": "stream",
          "name": "stdout",
          "text": [
            "R2 train outliers: 0.9849432134815613\n",
            "RMSE train outliers: 0.15238077326740793\n",
            "R2 test outliers: 0.9623688223007789\n",
            "RMSE test outliers: 0.381276186494225\n"
          ]
        }
      ]
    },
    {
      "cell_type": "markdown",
      "source": [
        "### Random Forest"
      ],
      "metadata": {
        "id": "zF3QJhdKWqIj"
      }
    },
    {
      "cell_type": "code",
      "source": [
        "param_grid = {\n",
        "    'n_estimators': [100, 200, 300, 400, 500],\n",
        "    'max_features': ['sqrt', 'log2', None],\n",
        "    'max_depth': [3, 6, 9],\n",
        "    'max_leaf_nodes': [3, 6, 9]\n",
        "}\n",
        "\n",
        "grid_search_and_test('MFP_RF', param_grid, RandomForestRegressor(random_state=42), X_train, y_train, X_test, y_test)"
      ],
      "metadata": {
        "colab": {
          "base_uri": "https://localhost:8080/"
        },
        "id": "YJD8Udojwmey",
        "outputId": "bc20e915-628d-46bb-c234-eac64eab8f8a"
      },
      "execution_count": null,
      "outputs": [
        {
          "output_type": "stream",
          "name": "stdout",
          "text": [
            "Performing grid_search...\n",
            "Testing the best model...\n",
            "Best params: {'max_depth': 9, 'max_features': 'sqrt', 'max_leaf_nodes': 9, 'n_estimators': 200}\n",
            "R2 cross val: 0.5852449282181824 +- 0.14495717624667612\n",
            "RMSE cross val: -0.349469802955881 +- 0.05916997773090669\n",
            "R2 train: 0.7234751770399538\n",
            "RMSE train: 0.2551324964911493\n",
            "R2 test: 0.6772190661246107\n",
            "RMSE test: 0.36023180531673815\n"
          ]
        }
      ]
    },
    {
      "cell_type": "markdown",
      "source": [
        "### Extra Trees"
      ],
      "metadata": {
        "id": "sbQe9o5FWyo4"
      }
    },
    {
      "cell_type": "code",
      "source": [
        "param_grid = {\n",
        "    'n_estimators': [100, 200, 300, 400, 500],\n",
        "    'max_features': ['sqrt', 'log2', None],\n",
        "    'max_depth': [3, 6, 9],\n",
        "    'max_leaf_nodes': [3, 6, 9]\n",
        "}\n",
        "\n",
        "grid_search_and_test('MFP_ET', param_grid, ExtraTreesRegressor(random_state=42), X_train, y_train, X_test, y_test)"
      ],
      "metadata": {
        "colab": {
          "base_uri": "https://localhost:8080/"
        },
        "id": "GdPUygn_wwsb",
        "outputId": "d88b883c-e94f-40d0-c01a-291979c0da6d"
      },
      "execution_count": null,
      "outputs": [
        {
          "output_type": "stream",
          "name": "stdout",
          "text": [
            "Performing grid_search...\n",
            "Testing the best model...\n",
            "Best params: {'max_depth': 9, 'max_features': 'sqrt', 'max_leaf_nodes': 9, 'n_estimators': 500}\n",
            "R2 cross val: 0.5956874814005297 +- 0.16014779246840916\n",
            "RMSE cross val: -0.33524302119014193 +- 0.06396792041045248\n",
            "R2 train: 0.719345710135274\n",
            "RMSE train: 0.2589425023679843\n",
            "R2 test: 0.6729677814765854\n",
            "RMSE test: 0.3649763480791825\n"
          ]
        }
      ]
    },
    {
      "cell_type": "markdown",
      "source": [
        "### LGBM"
      ],
      "metadata": {
        "id": "UJBipaL8tEnG"
      }
    },
    {
      "cell_type": "code",
      "source": [
        "param_grid = {\n",
        "        'n_estimators':[100, 200, 300, 400, 500],\n",
        "        'learning_rate':[.001,0.01,.1],\n",
        "        'subsample': [.5,.75,1],\n",
        "        'max_depth': [1,2,4]\n",
        "        }\n",
        "\n",
        "grid_search_and_test('MFP_LGBM', param_grid, lgb.LGBMRegressor(random_state=42, verbose=-1), X_train, y_train, X_test, y_test)"
      ],
      "metadata": {
        "colab": {
          "base_uri": "https://localhost:8080/"
        },
        "id": "9Uw1SD5jtL7a",
        "outputId": "e37120e8-9a99-46e6-a1ff-18441e31f1a5"
      },
      "execution_count": null,
      "outputs": [
        {
          "output_type": "stream",
          "name": "stdout",
          "text": [
            "Performing grid_search...\n",
            "Testing the best model...\n",
            "Best params: {'learning_rate': 0.1, 'max_depth': 2, 'n_estimators': 300, 'subsample': 0.5}\n",
            "R2 cross val: 0.6339966419043477 +- 0.16836309386558324\n",
            "RMSE cross val: -0.30137806560538294 +- 0.0820270799017129\n",
            "R2 train: 0.8770675245117573\n",
            "RMSE train: 0.113422256401495\n",
            "R2 test: 0.7480757125891531\n",
            "RMSE test: 0.28115396955935756\n"
          ]
        }
      ]
    },
    {
      "cell_type": "code",
      "source": [
        "import pickle\n",
        "params = {'learning_rate': 0.1, 'max_depth': 2, 'n_estimators': 300, 'subsample': 0.5}\n",
        "model = lgb.LGBMRegressor(random_state=42, verbose=-1, **params)\n",
        "model.fit(X_train, y_train)\n",
        "y_train_pred = model.predict(X_train)\n",
        "y_test_pred = model.predict(X_test)\n",
        "pickle.dump(model, open('benz_model_lgbm.pkl', 'wb'))"
      ],
      "metadata": {
        "id": "T2dzJg2gFHDQ"
      },
      "execution_count": null,
      "outputs": []
    },
    {
      "cell_type": "code",
      "source": [
        "# Initialize layout\n",
        "fig, ax = plt.subplots(figsize=(8, 5))\n",
        "\n",
        "# Add scatterplot\n",
        "ax.scatter(y_test, y_test_pred, s=60, alpha=0.7, edgecolors=\"k\", label='test')\n",
        "\n",
        "ax.scatter(y_train, y_train_pred, s=60, alpha=0.7, edgecolors=\"k\", label='train')\n",
        "\n",
        "# Fit linear regression via least squares with numpy.polyfit\n",
        "# It returns an slope (b) and intercept (a)\n",
        "# deg=1 means linear fit (i.e. polynomial of degree 1)\n",
        "rng = np.random.default_rng(1234)\n",
        "x = rng.uniform(-6, 3, size=100)\n",
        "y = x + rng.normal(size=100)\n",
        "b, a = np.polyfit(x, y, deg=1)\n",
        "\n",
        "# Create sequence of 100 numbers from 0 to 100\n",
        "xseq = np.linspace(-6, 3, num=100)\n",
        "\n",
        "# Plot regression line\n",
        "ax.plot(xseq, a + b * xseq, color=\"k\", lw=2.5)\n",
        "ax.legend()"
      ],
      "metadata": {
        "colab": {
          "base_uri": "https://localhost:8080/",
          "height": 462
        },
        "id": "PwtiW01dKT07",
        "outputId": "0b70ca3c-d9e2-4949-8191-d48f4c946bca"
      },
      "execution_count": null,
      "outputs": [
        {
          "output_type": "execute_result",
          "data": {
            "text/plain": [
              "<matplotlib.legend.Legend at 0x7920d4634460>"
            ]
          },
          "metadata": {},
          "execution_count": 344
        },
        {
          "output_type": "display_data",
          "data": {
            "text/plain": [
              "<Figure size 800x500 with 1 Axes>"
            ],
            "image/png": "[encoded data removed]"
          },
          "metadata": {}
        }
      ]
    },
    {
      "cell_type": "markdown",
      "metadata": {
        "id": "qa3klusPcCJd"
      },
      "source": [
        "## Mol2Vec (regression)"
      ]
    },
    {
      "cell_type": "code",
      "execution_count": null,
      "metadata": {
        "id": "ZWJfKg6uf78g"
      },
      "outputs": [],
      "source": [
        "# load a pre-trained Mol2vec model\n",
        "model = word2vec.Word2Vec.load('model_300dim.pkl')"
      ]
    },
    {
      "cell_type": "code",
      "execution_count": null,
      "metadata": {
        "id": "MconDYEJfcLy"
      },
      "outputs": [],
      "source": [
        "# generate mols\n",
        "mols = [Chem.MolFromSmiles(smi) for smi in df_ecoli['smiles']]"
      ]
    },
    {
      "cell_type": "code",
      "execution_count": null,
      "metadata": {
        "id": "1npsmGKZAeG_"
      },
      "outputs": [],
      "source": [
        "def sentences2vec(sentences, model, unseen=None):\n",
        "    \"\"\"Generate vectors for each sentence (list) in a list of sentences. Vector is simply a\n",
        "    sum of vectors for individual words.\n",
        "\n",
        "    Parameters\n",
        "    ----------\n",
        "    sentences : list, array\n",
        "        List with sentences\n",
        "    model : word2vec.Word2Vec\n",
        "        Gensim word2vec model\n",
        "    unseen : None, str\n",
        "        Keyword for unseen words. If None, those words are skipped.\n",
        "        https://stats.stackexchange.com/questions/163005/how-to-set-the-dictionary-for-text-analysis-using-neural-networks/163032#163032\n",
        "\n",
        "    Returns\n",
        "    -------\n",
        "    np.array\n",
        "    \"\"\"\n",
        "\n",
        "    keys = set(model.wv.key_to_index)\n",
        "    vec = []\n",
        "\n",
        "    if unseen:\n",
        "        unseen_vec = model.wv.get_vector(unseen)\n",
        "\n",
        "    for sentence in sentences:\n",
        "        if unseen:\n",
        "            vec.append(sum([model.wv.get_vector(y) if y in set(sentence) & keys\n",
        "                       else unseen_vec for y in sentence]))\n",
        "        else:\n",
        "            vec.append(sum([model.wv.get_vector(y) for y in sentence\n",
        "                            if y in set(sentence) & keys]))\n",
        "    return np.array(vec)"
      ]
    },
    {
      "cell_type": "code",
      "execution_count": null,
      "metadata": {
        "id": "s5vz7mE3fjDA"
      },
      "outputs": [],
      "source": [
        "# generate molecular sentences\n",
        "df_ecoli['sentence'] = [mol2alt_sentence(m, 1) for m in mols]\n",
        "df_ecoli['mol2vec'] = [DfVec(x) for x in sentences2vec(df_ecoli['sentence'], model, unseen='UNK')]"
      ]
    },
    {
      "cell_type": "code",
      "execution_count": null,
      "metadata": {
        "id": "6SXfscb7gsvz"
      },
      "outputs": [],
      "source": [
        "# prepare data\n",
        "X_vec = np.array([x.vec for x in df_ecoli['mol2vec']])\n",
        "y_vec = np.array(df_ecoli['lgMIC'])"
      ]
    },
    {
      "cell_type": "code",
      "source": [
        "X_vec.shape"
      ],
      "metadata": {
        "colab": {
          "base_uri": "https://localhost:8080/"
        },
        "id": "S4Wh5MxkTCIw",
        "outputId": "99bea37d-01b3-4a39-d3e1-8ca5d7867dd2"
      },
      "execution_count": null,
      "outputs": [
        {
          "output_type": "execute_result",
          "data": {
            "text/plain": [
              "(326, 300)"
            ]
          },
          "metadata": {},
          "execution_count": 22
        }
      ]
    },
    {
      "cell_type": "code",
      "execution_count": null,
      "metadata": {
        "id": "b_EUelfxg7Rf"
      },
      "outputs": [],
      "source": [
        "# split data into train and test\n",
        "X_train_vec, X_test_vec, y_train_vec, y_test_vec = train_test_split(X_vec, y_vec, test_size=0.2, random_state=42, stratify=df_ecoli.group_strat)"
      ]
    },
    {
      "cell_type": "code",
      "execution_count": null,
      "metadata": {
        "id": "wpQpVlhag7Rg"
      },
      "outputs": [],
      "source": [
        "# obtain model results with Lazy Predict\n",
        "reg = LazyRegressor(verbose=0, ignore_warnings=True, custom_metric=None)\n",
        "models, predictions = reg.fit(X_train_vec, X_test_vec, y_train_vec, y_test_vec)"
      ]
    },
    {
      "cell_type": "code",
      "source": [
        "models.tail(10)"
      ],
      "metadata": {
        "colab": {
          "base_uri": "https://localhost:8080/",
          "height": 394
        },
        "id": "hGo8Lc0VqNqO",
        "outputId": "c4abfa78-c1c5-4c17-bc8f-91d952bfabd7"
      },
      "execution_count": null,
      "outputs": [
        {
          "output_type": "execute_result",
          "data": {
            "text/plain": [
              "                            Adjusted R-Squared  R-Squared  RMSE  Time Taken\n",
              "Model                                                                      \n",
              "BayesianRidge                             1.08       0.72  0.56        0.26\n",
              "RidgeCV                                   1.08       0.72  0.56        0.18\n",
              "LinearRegression                          1.07       0.74  0.54        0.12\n",
              "TransformedTargetRegressor                1.07       0.74  0.54        0.08\n",
              "MLPRegressor                              1.07       0.74  0.54        0.49\n",
              "RandomForestRegressor                     1.07       0.75  0.53        3.76\n",
              "AdaBoostRegressor                         1.07       0.75  0.52        1.16\n",
              "XGBRegressor                              1.07       0.76  0.51        6.83\n",
              "GradientBoostingRegressor                 1.06       0.77  0.51        2.78\n",
              "ExtraTreesRegressor                       1.06       0.78  0.49        3.75"
            ],
            "text/html": [
              "\n",
              "  <div id=\"df-852dfc0e-d982-4b99-90d4-ddbfcad912fe\" class=\"colab-df-container\">\n",
              "    <div>\n",
              "<style scoped>\n",
              "    .dataframe tbody tr th:only-of-type {\n",
              "        vertical-align: middle;\n",
              "    }\n",
              "\n",
              "    .dataframe tbody tr th {\n",
              "        vertical-align: top;\n",
              "    }\n",
              "\n",
              "    .dataframe thead th {\n",
              "        text-align: right;\n",
              "    }\n",
              "</style>\n",
              "<table border=\"1\" class=\"dataframe\">\n",
              "  <thead>\n",
              "    <tr style=\"text-align: right;\">\n",
              "      <th></th>\n",
              "      <th>Adjusted R-Squared</th>\n",
              "      <th>R-Squared</th>\n",
              "      <th>RMSE</th>\n",
              "      <th>Time Taken</th>\n",
              "    </tr>\n",
              "    <tr>\n",
              "      <th>Model</th>\n",
              "      <th></th>\n",
              "      <th></th>\n",
              "      <th></th>\n",
              "      <th></th>\n",
              "    </tr>\n",
              "  </thead>\n",
              "  <tbody>\n",
              "    <tr>\n",
              "      <th>BayesianRidge</th>\n",
              "      <td>1.08</td>\n",
              "      <td>0.72</td>\n",
              "      <td>0.56</td>\n",
              "      <td>0.26</td>\n",
              "    </tr>\n",
              "    <tr>\n",
              "      <th>RidgeCV</th>\n",
              "      <td>1.08</td>\n",
              "      <td>0.72</td>\n",
              "      <td>0.56</td>\n",
              "      <td>0.18</td>\n",
              "    </tr>\n",
              "    <tr>\n",
              "      <th>LinearRegression</th>\n",
              "      <td>1.07</td>\n",
              "      <td>0.74</td>\n",
              "      <td>0.54</td>\n",
              "      <td>0.12</td>\n",
              "    </tr>\n",
              "    <tr>\n",
              "      <th>TransformedTargetRegressor</th>\n",
              "      <td>1.07</td>\n",
              "      <td>0.74</td>\n",
              "      <td>0.54</td>\n",
              "      <td>0.08</td>\n",
              "    </tr>\n",
              "    <tr>\n",
              "      <th>MLPRegressor</th>\n",
              "      <td>1.07</td>\n",
              "      <td>0.74</td>\n",
              "      <td>0.54</td>\n",
              "      <td>0.49</td>\n",
              "    </tr>\n",
              "    <tr>\n",
              "      <th>RandomForestRegressor</th>\n",
              "      <td>1.07</td>\n",
              "      <td>0.75</td>\n",
              "      <td>0.53</td>\n",
              "      <td>3.76</td>\n",
              "    </tr>\n",
              "    <tr>\n",
              "      <th>AdaBoostRegressor</th>\n",
              "      <td>1.07</td>\n",
              "      <td>0.75</td>\n",
              "      <td>0.52</td>\n",
              "      <td>1.16</td>\n",
              "    </tr>\n",
              "    <tr>\n",
              "      <th>XGBRegressor</th>\n",
              "      <td>1.07</td>\n",
              "      <td>0.76</td>\n",
              "      <td>0.51</td>\n",
              "      <td>6.83</td>\n",
              "    </tr>\n",
              "    <tr>\n",
              "      <th>GradientBoostingRegressor</th>\n",
              "      <td>1.06</td>\n",
              "      <td>0.77</td>\n",
              "      <td>0.51</td>\n",
              "      <td>2.78</td>\n",
              "    </tr>\n",
              "    <tr>\n",
              "      <th>ExtraTreesRegressor</th>\n",
              "      <td>1.06</td>\n",
              "      <td>0.78</td>\n",
              "      <td>0.49</td>\n",
              "      <td>3.75</td>\n",
              "    </tr>\n",
              "  </tbody>\n",
              "</table>\n",
              "</div>\n",
              "    <div class=\"colab-df-buttons\">\n",
              "\n",
              "  <div class=\"colab-df-container\">\n",
              "    <button class=\"colab-df-convert\" onclick=\"convertToInteractive('df-852dfc0e-d982-4b99-90d4-ddbfcad912fe')\"\n",
              "            title=\"Convert this dataframe to an interactive table.\"\n",
              "            style=\"display:none;\">\n",
              "\n",
              "  <svg xmlns=\"http://www.w3.org/2000/svg\" height=\"24px\" viewBox=\"0 -960 960 960\">\n",
              "    <path d=\"M120-120v-720h720v720H120Zm60-500h600v-160H180v160Zm220 220h160v-160H400v160Zm0 220h160v-160H400v160ZM180-400h160v-160H180v160Zm440 0h160v-160H620v160ZM180-180h160v-160H180v160Zm440 0h160v-160H620v160Z\"/>\n",
              "  </svg>\n",
              "    </button>\n",
              "\n",
              "  <style>\n",
              "    .colab-df-container {\n",
              "      display:flex;\n",
              "      gap: 12px;\n",
              "    }\n",
              "\n",
              "    .colab-df-convert {\n",
              "      background-color: #E8F0FE;\n",
              "      border: none;\n",
              "      border-radius: 50%;\n",
              "      cursor: pointer;\n",
              "      display: none;\n",
              "      fill: #1967D2;\n",
              "      height: 32px;\n",
              "      padding: 0 0 0 0;\n",
              "      width: 32px;\n",
              "    }\n",
              "\n",
              "    .colab-df-convert:hover {\n",
              "      background-color: #E2EBFA;\n",
              "      box-shadow: 0px 1px 2px rgba(60, 64, 67, 0.3), 0px 1px 3px 1px rgba(60, 64, 67, 0.15);\n",
              "      fill: #174EA6;\n",
              "    }\n",
              "\n",
              "    .colab-df-buttons div {\n",
              "      margin-bottom: 4px;\n",
              "    }\n",
              "\n",
              "    [theme=dark] .colab-df-convert {\n",
              "      background-color: #3B4455;\n",
              "      fill: #D2E3FC;\n",
              "    }\n",
              "\n",
              "    [theme=dark] .colab-df-convert:hover {\n",
              "      background-color: #434B5C;\n",
              "      box-shadow: 0px 1px 3px 1px rgba(0, 0, 0, 0.15);\n",
              "      filter: drop-shadow(0px 1px 2px rgba(0, 0, 0, 0.3));\n",
              "      fill: #FFFFFF;\n",
              "    }\n",
              "  </style>\n",
              "\n",
              "    <script>\n",
              "      const buttonEl =\n",
              "        document.querySelector('#df-852dfc0e-d982-4b99-90d4-ddbfcad912fe button.colab-df-convert');\n",
              "      buttonEl.style.display =\n",
              "        google.colab.kernel.accessAllowed ? 'block' : 'none';\n",
              "\n",
              "      async function convertToInteractive(key) {\n",
              "        const element = document.querySelector('#df-852dfc0e-d982-4b99-90d4-ddbfcad912fe');\n",
              "        const dataTable =\n",
              "          await google.colab.kernel.invokeFunction('convertToInteractive',\n",
              "                                                    [key], {});\n",
              "        if (!dataTable) return;\n",
              "\n",
              "        const docLinkHtml = 'Like what you see? Visit the ' +\n",
              "          '<a target=\"_blank\" href=https://colab.research.google.com/notebooks/data_table.ipynb>data table notebook</a>'\n",
              "          + ' to learn more about interactive tables.';\n",
              "        element.innerHTML = '';\n",
              "        dataTable['output_type'] = 'display_data';\n",
              "        await google.colab.output.renderOutput(dataTable, element);\n",
              "        const docLink = document.createElement('div');\n",
              "        docLink.innerHTML = docLinkHtml;\n",
              "        element.appendChild(docLink);\n",
              "      }\n",
              "    </script>\n",
              "  </div>\n",
              "\n",
              "\n",
              "<div id=\"df-135a139d-b94a-4475-a3ac-0500b5eb6d86\">\n",
              "  <button class=\"colab-df-quickchart\" onclick=\"quickchart('df-135a139d-b94a-4475-a3ac-0500b5eb6d86')\"\n",
              "            title=\"Suggest charts\"\n",
              "            style=\"display:none;\">\n",
              "\n",
              "<svg xmlns=\"http://www.w3.org/2000/svg\" height=\"24px\"viewBox=\"0 0 24 24\"\n",
              "     width=\"24px\">\n",
              "    <g>\n",
              "        <path d=\"M19 3H5c-1.1 0-2 .9-2 2v14c0 1.1.9 2 2 2h14c1.1 0 2-.9 2-2V5c0-1.1-.9-2-2-2zM9 17H7v-7h2v7zm4 0h-2V7h2v10zm4 0h-2v-4h2v4z\"/>\n",
              "    </g>\n",
              "</svg>\n",
              "  </button>\n",
              "\n",
              "<style>\n",
              "  .colab-df-quickchart {\n",
              "      --bg-color: #E8F0FE;\n",
              "      --fill-color: #1967D2;\n",
              "      --hover-bg-color: #E2EBFA;\n",
              "      --hover-fill-color: #174EA6;\n",
              "      --disabled-fill-color: #AAA;\n",
              "      --disabled-bg-color: #DDD;\n",
              "  }\n",
              "\n",
              "  [theme=dark] .colab-df-quickchart {\n",
              "      --bg-color: #3B4455;\n",
              "      --fill-color: #D2E3FC;\n",
              "      --hover-bg-color: #434B5C;\n",
              "      --hover-fill-color: #FFFFFF;\n",
              "      --disabled-bg-color: #3B4455;\n",
              "      --disabled-fill-color: #666;\n",
              "  }\n",
              "\n",
              "  .colab-df-quickchart {\n",
              "    background-color: var(--bg-color);\n",
              "    border: none;\n",
              "    border-radius: 50%;\n",
              "    cursor: pointer;\n",
              "    display: none;\n",
              "    fill: var(--fill-color);\n",
              "    height: 32px;\n",
              "    padding: 0;\n",
              "    width: 32px;\n",
              "  }\n",
              "\n",
              "  .colab-df-quickchart:hover {\n",
              "    background-color: var(--hover-bg-color);\n",
              "    box-shadow: 0 1px 2px rgba(60, 64, 67, 0.3), 0 1px 3px 1px rgba(60, 64, 67, 0.15);\n",
              "    fill: var(--button-hover-fill-color);\n",
              "  }\n",
              "\n",
              "  .colab-df-quickchart-complete:disabled,\n",
              "  .colab-df-quickchart-complete:disabled:hover {\n",
              "    background-color: var(--disabled-bg-color);\n",
              "    fill: var(--disabled-fill-color);\n",
              "    box-shadow: none;\n",
              "  }\n",
              "\n",
              "  .colab-df-spinner {\n",
              "    border: 2px solid var(--fill-color);\n",
              "    border-color: transparent;\n",
              "    border-bottom-color: var(--fill-color);\n",
              "    animation:\n",
              "      spin 1s steps(1) infinite;\n",
              "  }\n",
              "\n",
              "  @keyframes spin {\n",
              "    0% {\n",
              "      border-color: transparent;\n",
              "      border-bottom-color: var(--fill-color);\n",
              "      border-left-color: var(--fill-color);\n",
              "    }\n",
              "    20% {\n",
              "      border-color: transparent;\n",
              "      border-left-color: var(--fill-color);\n",
              "      border-top-color: var(--fill-color);\n",
              "    }\n",
              "    30% {\n",
              "      border-color: transparent;\n",
              "      border-left-color: var(--fill-color);\n",
              "      border-top-color: var(--fill-color);\n",
              "      border-right-color: var(--fill-color);\n",
              "    }\n",
              "    40% {\n",
              "      border-color: transparent;\n",
              "      border-right-color: var(--fill-color);\n",
              "      border-top-color: var(--fill-color);\n",
              "    }\n",
              "    60% {\n",
              "      border-color: transparent;\n",
              "      border-right-color: var(--fill-color);\n",
              "    }\n",
              "    80% {\n",
              "      border-color: transparent;\n",
              "      border-right-color: var(--fill-color);\n",
              "      border-bottom-color: var(--fill-color);\n",
              "    }\n",
              "    90% {\n",
              "      border-color: transparent;\n",
              "      border-bottom-color: var(--fill-color);\n",
              "    }\n",
              "  }\n",
              "</style>\n",
              "\n",
              "  <script>\n",
              "    async function quickchart(key) {\n",
              "      const quickchartButtonEl =\n",
              "        document.querySelector('#' + key + ' button');\n",
              "      quickchartButtonEl.disabled = true;  // To prevent multiple clicks.\n",
              "      quickchartButtonEl.classList.add('colab-df-spinner');\n",
              "      try {\n",
              "        const charts = await google.colab.kernel.invokeFunction(\n",
              "            'suggestCharts', [key], {});\n",
              "      } catch (error) {\n",
              "        console.error('Error during call to suggestCharts:', error);\n",
              "      }\n",
              "      quickchartButtonEl.classList.remove('colab-df-spinner');\n",
              "      quickchartButtonEl.classList.add('colab-df-quickchart-complete');\n",
              "    }\n",
              "    (() => {\n",
              "      let quickchartButtonEl =\n",
              "        document.querySelector('#df-135a139d-b94a-4475-a3ac-0500b5eb6d86 button');\n",
              "      quickchartButtonEl.style.display =\n",
              "        google.colab.kernel.accessAllowed ? 'block' : 'none';\n",
              "    })();\n",
              "  </script>\n",
              "</div>\n",
              "    </div>\n",
              "  </div>\n"
            ],
            "application/vnd.google.colaboratory.intrinsic+json": {
              "type": "dataframe",
              "summary": "{\n  \"name\": \"models\",\n  \"rows\": 10,\n  \"fields\": [\n    {\n      \"column\": \"Model\",\n      \"properties\": {\n        \"dtype\": \"string\",\n        \"num_unique_values\": 10,\n        \"samples\": [\n          \"GradientBoostingRegressor\",\n          \"RidgeCV\",\n          \"RandomForestRegressor\"\n        ],\n        \"semantic_type\": \"\",\n        \"description\": \"\"\n      }\n    },\n    {\n      \"column\": \"Adjusted R-Squared\",\n      \"properties\": {\n        \"dtype\": \"number\",\n        \"std\": 0.005470459893298139,\n        \"min\": 1.0599862678637293,\n        \"max\": 1.0768951159162083,\n        \"num_unique_values\": 9,\n        \"samples\": [\n          1.064266809316055,\n          1.0766408044028677,\n          1.067767701304556\n        ],\n        \"semantic_type\": \"\",\n        \"description\": \"\"\n      }\n    },\n    {\n      \"column\": \"R-Squared\",\n      \"properties\": {\n        \"dtype\": \"number\",\n        \"std\": 0.019777816537308743,\n        \"min\": 0.7219945809183237,\n        \"max\": 0.783126570031133,\n        \"num_unique_values\": 9,\n        \"samples\": [\n          0.7676507663188783,\n          0.7229140148511708,\n          0.7549936952835283\n        ],\n        \"semantic_type\": \"\",\n        \"description\": \"\"\n      }\n    },\n    {\n      \"column\": \"RMSE\",\n      \"properties\": {\n        \"dtype\": \"number\",\n        \"std\": 0.020963338619768207,\n        \"min\": 0.4919718621923934,\n        \"max\": 0.5570109350726683,\n        \"num_unique_values\": 9,\n        \"samples\": [\n          0.5092226499946427,\n          0.556089084524432,\n          0.5229085229226483\n        ],\n        \"semantic_type\": \"\",\n        \"description\": \"\"\n      }\n    },\n    {\n      \"column\": \"Time Taken\",\n      \"properties\": {\n        \"dtype\": \"number\",\n        \"std\": 2.2767981992682134,\n        \"min\": 0.08116698265075684,\n        \"max\": 6.834039926528931,\n        \"num_unique_values\": 10,\n        \"samples\": [\n          2.782775640487671,\n          0.1796576976776123,\n          3.759356737136841\n        ],\n        \"semantic_type\": \"\",\n        \"description\": \"\"\n      }\n    }\n  ]\n}"
            }
          },
          "metadata": {},
          "execution_count": 155
        }
      ]
    },
    {
      "cell_type": "markdown",
      "source": [
        "### GradientBoosting"
      ],
      "metadata": {
        "id": "6oAqO9RzZ3lt"
      }
    },
    {
      "cell_type": "code",
      "source": [
        "param_grid = {'n_estimators':[100, 200, 300, 400, 500],\n",
        "               'learning_rate':[.001,0.01,.1],\n",
        "               'max_depth':[1, 2, 4],\n",
        "               'subsample':[.5,.75,1]}\n",
        "\n",
        "grid_search_and_test('MV_GB', param_grid, GradientBoostingRegressor(random_state=42), X_train_vec, y_train_vec, X_test_vec, y_test_vec)"
      ],
      "metadata": {
        "id": "O0eisd-mZ3lv",
        "colab": {
          "base_uri": "https://localhost:8080/"
        },
        "outputId": "5c3ae6f0-2861-4a39-a85b-a9758d5c29eb"
      },
      "execution_count": null,
      "outputs": [
        {
          "output_type": "stream",
          "name": "stdout",
          "text": [
            "Performing grid_search...\n",
            "Testing the best model...\n",
            "Best params: {'learning_rate': 0.1, 'max_depth': 1, 'n_estimators': 200, 'subsample': 0.75}\n",
            "R2 cross val: 0.6211228854166047 +- 0.13999804775983213\n",
            "RMSE cross val: -0.3178999565174262 +- 0.05810619768275543\n",
            "R2 train: 0.889925395334607\n",
            "RMSE train: 0.10155908749145352\n",
            "R2 test: 0.7438923034776228\n",
            "RMSE test: 0.28582276148127084\n"
          ]
        }
      ]
    },
    {
      "cell_type": "markdown",
      "source": [
        "### Random Forest"
      ],
      "metadata": {
        "id": "RDEflpN1Z3ly"
      }
    },
    {
      "cell_type": "code",
      "source": [
        "param_grid = {\n",
        "    'n_estimators': [100, 200, 300, 400, 500],\n",
        "    'max_features': ['sqrt', 'log2', None],\n",
        "    'max_depth': [3, 6, 9],\n",
        "    'max_leaf_nodes': [3, 6, 9]\n",
        "}\n",
        "\n",
        "grid_search_and_test('MV_RF', param_grid, RandomForestRegressor(random_state=42), X_train_vec, y_train_vec, X_test_vec, y_test_vec)"
      ],
      "metadata": {
        "id": "3s8pV5TYZ3ly",
        "colab": {
          "base_uri": "https://localhost:8080/"
        },
        "outputId": "ef694c41-57fb-4ba8-8b55-da1fad7fa23b"
      },
      "execution_count": null,
      "outputs": [
        {
          "output_type": "stream",
          "name": "stdout",
          "text": [
            "Performing grid_search...\n",
            "Testing the best model...\n",
            "Best params: {'max_depth': 9, 'max_features': None, 'max_leaf_nodes': 9, 'n_estimators': 500}\n",
            "R2 cross val: 0.5545598411979863 +- 0.16124680155504634\n",
            "RMSE cross val: -0.37824703606652754 +- 0.07985518576054437\n",
            "R2 train: 0.8101338315827791\n",
            "RMSE train: 0.17517787021418185\n",
            "R2 test: 0.7267200591353815\n",
            "RMSE test: 0.30498742683642427\n"
          ]
        }
      ]
    },
    {
      "cell_type": "markdown",
      "source": [
        "### Extra Trees"
      ],
      "metadata": {
        "id": "LeN89e_0Z3lz"
      }
    },
    {
      "cell_type": "code",
      "source": [
        "param_grid = {\n",
        "    'n_estimators': [100, 200, 300, 400, 500],\n",
        "    'max_features': ['sqrt', 'log2', None],\n",
        "    'max_depth': [3, 6, 9],\n",
        "    'max_leaf_nodes': [3, 6, 9]\n",
        "}\n",
        "\n",
        "grid_search_and_test('MV_ET', param_grid, ExtraTreesRegressor(random_state=42), X_train_vec, y_train_vec, X_test_vec, y_test_vec)"
      ],
      "metadata": {
        "id": "sLRMy6T2Z3l0",
        "colab": {
          "base_uri": "https://localhost:8080/"
        },
        "outputId": "809278dc-ca04-407a-9d07-0e45545676f6"
      },
      "execution_count": null,
      "outputs": [
        {
          "output_type": "stream",
          "name": "stdout",
          "text": [
            "Performing grid_search...\n",
            "Testing the best model...\n",
            "Best params: {'max_depth': 9, 'max_features': None, 'max_leaf_nodes': 9, 'n_estimators': 200}\n",
            "R2 cross val: 0.6117912689712254 +- 0.17110320487207054\n",
            "RMSE cross val: -0.3200406153949682 +- 0.07952460163625735\n",
            "R2 train: 0.7643517475512016\n",
            "RMSE train: 0.21741819160200745\n",
            "R2 test: 0.7221453712065089\n",
            "RMSE test: 0.3100928959593764\n"
          ]
        }
      ]
    },
    {
      "cell_type": "markdown",
      "source": [
        "### XGB"
      ],
      "metadata": {
        "id": "eaZXB5HDtRt7"
      }
    },
    {
      "cell_type": "code",
      "source": [
        "param_grid = {\n",
        "        'n_estimators':[100, 200, 300, 400, 500],\n",
        "        'learning_rate':[.001,0.01,.1],\n",
        "        'gamma': [0.5, 1, 1.5, 2],\n",
        "        'subsample': [.5,.75,1],\n",
        "        'max_depth': [1,2,4]\n",
        "        }\n",
        "\n",
        "grid_search_and_test('MV_XGB', param_grid, XGBRegressor(random_state=42), X_train_vec, y_train_vec, X_test_vec, y_test_vec)"
      ],
      "metadata": {
        "colab": {
          "base_uri": "https://localhost:8080/"
        },
        "id": "FMRu_t6xtTGv",
        "outputId": "4e9e07d8-9734-46c4-fd9f-7d62f64309fc"
      },
      "execution_count": null,
      "outputs": [
        {
          "output_type": "stream",
          "name": "stdout",
          "text": [
            "Performing grid_search...\n",
            "Testing the best model...\n",
            "Best params: {'gamma': 0.5, 'learning_rate': 0.1, 'max_depth': 1, 'n_estimators': 400, 'subsample': 0.75}\n",
            "R2 cross val: 0.6200650491182005 +- 0.14264896032909036\n",
            "RMSE cross val: -0.3185625754226238 +- 0.06188216362773423\n",
            "R2 train: 0.9256073813835661\n",
            "RMSE train: 0.0686375071321067\n",
            "R2 test: 0.7759699491110035\n",
            "RMSE test: 0.2500232857870705\n"
          ]
        }
      ]
    },
    {
      "cell_type": "code",
      "source": [
        "results = pd.read_csv('MV_XGB.csv')"
      ],
      "metadata": {
        "id": "LDwRsipCCJRX"
      },
      "execution_count": null,
      "outputs": []
    },
    {
      "cell_type": "code",
      "source": [
        "n=4\n",
        "best_results = results[results.rank_test_neg_mean_squared_error==n]\n",
        "results[results.rank_test_neg_mean_squared_error==n].params.tolist()[0]"
      ],
      "metadata": {
        "colab": {
          "base_uri": "https://localhost:8080/",
          "height": 36
        },
        "outputId": "27273ae3-eb70-4b67-f20d-1b313cbe6ef9",
        "id": "jW8Yyj3HCJRY"
      },
      "execution_count": null,
      "outputs": [
        {
          "output_type": "execute_result",
          "data": {
            "text/plain": [
              "\"{'gamma': 0.5, 'learning_rate': 0.1, 'max_depth': 1, 'n_estimators': 200, 'subsample': 0.75}\""
            ],
            "application/vnd.google.colaboratory.intrinsic+json": {
              "type": "string"
            }
          },
          "metadata": {},
          "execution_count": 94
        }
      ]
    },
    {
      "cell_type": "code",
      "source": [
        "params = {'gamma': 0.5, 'learning_rate': 0.1, 'max_depth': 1, 'n_estimators': 200, 'subsample': 0.75}\n",
        "model = XGBRegressor(random_state=42, **params)\n",
        "model.fit(X_train_vec, y_train_vec)\n",
        "\n",
        "y_train_pred = model.predict(X_train_vec)\n",
        "y_test_pred = model.predict(X_test_vec)\n",
        "\n",
        "print(f'R2 cross val: {best_results.mean_test_r2.tolist()[0]} +- {best_results.std_test_r2.tolist()[0]}')\n",
        "print(f'RMSE cross val: {best_results.mean_test_neg_mean_squared_error.tolist()[0]} +- {best_results.std_test_neg_mean_squared_error.tolist()[0]}')\n",
        "print('R2 train:', r2_score(y_train_vec, y_train_pred))\n",
        "print('RMSE train:', mean_squared_error(y_train_vec, y_train_pred))\n",
        "print('R2 test:', r2_score(y_test_vec, y_test_pred))\n",
        "print('RMSE test:', mean_squared_error(y_test_vec, y_test_pred))"
      ],
      "metadata": {
        "colab": {
          "base_uri": "https://localhost:8080/"
        },
        "outputId": "f5215cc2-8d8e-4f29-95ed-8abee6eb38dd",
        "id": "0DlPoVOJCJRZ"
      },
      "execution_count": null,
      "outputs": [
        {
          "output_type": "stream",
          "name": "stdout",
          "text": [
            "R2 cross val: 0.6163038265833687 +- 0.1452585922340869\n",
            "RMSE cross val: -0.3222367033469319 +- 0.0657476659535847\n",
            "R2 train: 0.8804355296366411\n",
            "RMSE train: 0.1103148046128694\n",
            "R2 test: 0.7748550663139944\n",
            "RMSE test: 0.2512675235983354\n"
          ]
        }
      ]
    },
    {
      "cell_type": "markdown",
      "source": [
        "### LGBM"
      ],
      "metadata": {
        "id": "E6NkOvKCtTTc"
      }
    },
    {
      "cell_type": "code",
      "source": [
        "param_grid = {\n",
        "        'n_estimators':[100, 200, 300, 400, 500],\n",
        "        'learning_rate':[.001,0.01,.1],\n",
        "        'subsample': [.5,.75,1],\n",
        "        'max_depth': [1,2,4]\n",
        "        }\n",
        "\n",
        "grid_search_and_test('MV_LGBM', param_grid, lgb.LGBMRegressor(random_state=42, verbose=-1), X_train_vec, y_train_vec, X_test_vec, y_test_vec)"
      ],
      "metadata": {
        "colab": {
          "base_uri": "https://localhost:8080/"
        },
        "id": "7r6fxFnVtVCb",
        "outputId": "229a3d93-0e5f-4087-e054-81c1b0692fac"
      },
      "execution_count": null,
      "outputs": [
        {
          "output_type": "stream",
          "name": "stdout",
          "text": [
            "Performing grid_search...\n",
            "Testing the best model...\n",
            "Best params: {'learning_rate': 0.1, 'max_depth': 4, 'n_estimators': 500, 'subsample': 0.5}\n",
            "R2 cross val: 0.6064536245430302 +- 0.12129730494769635\n",
            "RMSE cross val: -0.3342441772735131 +- 0.046718394420991065\n",
            "R2 train: 0.9994878690845463\n",
            "RMSE train: 0.00047251178968797056\n",
            "R2 test: 0.7338010658139147\n",
            "RMSE test: 0.2970848416724175\n"
          ]
        }
      ]
    },
    {
      "cell_type": "code",
      "source": [
        "results = pd.read_csv('MV_LGBM.csv')\n",
        "best_results = results[results.rank_test_neg_mean_squared_error==22]"
      ],
      "metadata": {
        "id": "w4zpNf72Fj3J"
      },
      "execution_count": null,
      "outputs": []
    },
    {
      "cell_type": "code",
      "source": [
        "results[results.rank_test_neg_mean_squared_error==22].params.tolist()[0]"
      ],
      "metadata": {
        "colab": {
          "base_uri": "https://localhost:8080/",
          "height": 36
        },
        "id": "DGl5A6B1At_m",
        "outputId": "c3bd8c4e-f489-4bad-fff8-03522d22466f"
      },
      "execution_count": null,
      "outputs": [
        {
          "output_type": "execute_result",
          "data": {
            "text/plain": [
              "\"{'learning_rate': 0.1, 'max_depth': 1, 'n_estimators': 300, 'subsample': 0.5}\""
            ],
            "application/vnd.google.colaboratory.intrinsic+json": {
              "type": "string"
            }
          },
          "metadata": {},
          "execution_count": 79
        }
      ]
    },
    {
      "cell_type": "code",
      "source": [
        "params = {'learning_rate': 0.1, 'max_depth': 1, 'n_estimators': 300, 'subsample': 0.5}\n",
        "model = lgb.LGBMRegressor(random_state=42, verbose=-1, **params)\n",
        "model.fit(X_train_vec, y_train_vec)\n",
        "\n",
        "y_train_pred = model.predict(X_train_vec)\n",
        "y_test_pred = model.predict(X_test_vec)\n",
        "\n",
        "print(f'R2 cross val: {best_results.mean_test_r2.tolist()[0]} +- {best_results.std_test_r2.tolist()[0]}')\n",
        "print(f'RMSE cross val: {best_results.mean_test_neg_mean_squared_error.tolist()[0]} +- {best_results.std_test_neg_mean_squared_error.tolist()[0]}')\n",
        "print('R2 train:', r2_score(y_train_vec, y_train_pred))\n",
        "print('RMSE train:', mean_squared_error(y_train_vec, y_train_pred))\n",
        "print('R2 test:', r2_score(y_test_vec, y_test_pred))\n",
        "print('RMSE test:', mean_squared_error(y_test_vec, y_test_pred))"
      ],
      "metadata": {
        "colab": {
          "base_uri": "https://localhost:8080/"
        },
        "id": "ym4NU1CqxBwm",
        "outputId": "4c9cfcf6-36dc-4d4d-c85f-7ef0a88ede25"
      },
      "execution_count": null,
      "outputs": [
        {
          "output_type": "stream",
          "name": "stdout",
          "text": [
            "R2 cross val: 0.5721618438653228 +- 0.1660257084527914\n",
            "RMSE cross val: -0.359011982328134 +- 0.0768947906749082\n",
            "R2 train: 0.8722925842934233\n",
            "RMSE train: 0.11782780092172636\n",
            "R2 test: 0.7013249415739229\n",
            "RMSE test: 0.33332902971723966\n"
          ]
        }
      ]
    },
    {
      "cell_type": "markdown",
      "source": [
        "## Dataset with label-encoded scaffolds"
      ],
      "metadata": {
        "id": "oTifJgviyZmq"
      }
    },
    {
      "cell_type": "code",
      "source": [
        "from sklearn.preprocessing import LabelEncoder\n",
        "from sklearn.preprocessing import StandardScaler\n",
        "le = LabelEncoder()\n",
        "le.fit(df_ecoli.group.tolist())"
      ],
      "metadata": {
        "colab": {
          "base_uri": "https://localhost:8080/",
          "height": 74
        },
        "id": "pjRotgTpxW11",
        "outputId": "4e767d92-2ae1-4cc1-dc30-9cadc0407ee1"
      },
      "execution_count": null,
      "outputs": [
        {
          "output_type": "execute_result",
          "data": {
            "text/plain": [
              "LabelEncoder()"
            ],
            "text/html": [
              "<style>#sk-container-id-6 {color: black;background-color: white;}#sk-container-id-6 pre{padding: 0;}#sk-container-id-6 div.sk-toggleable {background-color: white;}#sk-container-id-6 label.sk-toggleable__label {cursor: pointer;display: block;width: 100%;margin-bottom: 0;padding: 0.3em;box-sizing: border-box;text-align: center;}#sk-container-id-6 label.sk-toggleable__label-arrow:before {content: \"▸\";float: left;margin-right: 0.25em;color: #696969;}#sk-container-id-6 label.sk-toggleable__label-arrow:hover:before {color: black;}#sk-container-id-6 div.sk-estimator:hover label.sk-toggleable__label-arrow:before {color: black;}#sk-container-id-6 div.sk-toggleable__content {max-height: 0;max-width: 0;overflow: hidden;text-align: left;background-color: #f0f8ff;}#sk-container-id-6 div.sk-toggleable__content pre {margin: 0.2em;color: black;border-radius: 0.25em;background-color: #f0f8ff;}#sk-container-id-6 input.sk-toggleable__control:checked~div.sk-toggleable__content {max-height: 200px;max-width: 100%;overflow: auto;}#sk-container-id-6 input.sk-toggleable__control:checked~label.sk-toggleable__label-arrow:before {content: \"▾\";}#sk-container-id-6 div.sk-estimator input.sk-toggleable__control:checked~label.sk-toggleable__label {background-color: #d4ebff;}#sk-container-id-6 div.sk-label input.sk-toggleable__control:checked~label.sk-toggleable__label {background-color: #d4ebff;}#sk-container-id-6 input.sk-hidden--visually {border: 0;clip: rect(1px 1px 1px 1px);clip: rect(1px, 1px, 1px, 1px);height: 1px;margin: -1px;overflow: hidden;padding: 0;position: absolute;width: 1px;}#sk-container-id-6 div.sk-estimator {font-family: monospace;background-color: #f0f8ff;border: 1px dotted black;border-radius: 0.25em;box-sizing: border-box;margin-bottom: 0.5em;}#sk-container-id-6 div.sk-estimator:hover {background-color: #d4ebff;}#sk-container-id-6 div.sk-parallel-item::after {content: \"\";width: 100%;border-bottom: 1px solid gray;flex-grow: 1;}#sk-container-id-6 div.sk-label:hover label.sk-toggleable__label {background-color: #d4ebff;}#sk-container-id-6 div.sk-serial::before {content: \"\";position: absolute;border-left: 1px solid gray;box-sizing: border-box;top: 0;bottom: 0;left: 50%;z-index: 0;}#sk-container-id-6 div.sk-serial {display: flex;flex-direction: column;align-items: center;background-color: white;padding-right: 0.2em;padding-left: 0.2em;position: relative;}#sk-container-id-6 div.sk-item {position: relative;z-index: 1;}#sk-container-id-6 div.sk-parallel {display: flex;align-items: stretch;justify-content: center;background-color: white;position: relative;}#sk-container-id-6 div.sk-item::before, #sk-container-id-6 div.sk-parallel-item::before {content: \"\";position: absolute;border-left: 1px solid gray;box-sizing: border-box;top: 0;bottom: 0;left: 50%;z-index: -1;}#sk-container-id-6 div.sk-parallel-item {display: flex;flex-direction: column;z-index: 1;position: relative;background-color: white;}#sk-container-id-6 div.sk-parallel-item:first-child::after {align-self: flex-end;width: 50%;}#sk-container-id-6 div.sk-parallel-item:last-child::after {align-self: flex-start;width: 50%;}#sk-container-id-6 div.sk-parallel-item:only-child::after {width: 0;}#sk-container-id-6 div.sk-dashed-wrapped {border: 1px dashed gray;margin: 0 0.4em 0.5em 0.4em;box-sizing: border-box;padding-bottom: 0.4em;background-color: white;}#sk-container-id-6 div.sk-label label {font-family: monospace;font-weight: bold;display: inline-block;line-height: 1.2em;}#sk-container-id-6 div.sk-label-container {text-align: center;}#sk-container-id-6 div.sk-container {/* jupyter's `normalize.less` sets `[hidden] { display: none; }` but bootstrap.min.css set `[hidden] { display: none !important; }` so we also need the `!important` here to be able to override the default hidden behavior on the sphinx rendered scikit-learn.org. See: https://github.com/scikit-learn/scikit-learn/issues/21755 */display: inline-block !important;position: relative;}#sk-container-id-6 div.sk-text-repr-fallback {display: none;}</style><div id=\"sk-container-id-6\" class=\"sk-top-container\"><div class=\"sk-text-repr-fallback\"><pre>LabelEncoder()</pre><b>In a Jupyter environment, please rerun this cell to show the HTML representation or trust the notebook. <br />On GitHub, the HTML representation is unable to render, please try loading this page with nbviewer.org.</b></div><div class=\"sk-container\" hidden><div class=\"sk-item\"><div class=\"sk-estimator sk-toggleable\"><input class=\"sk-toggleable__control sk-hidden--visually\" id=\"sk-estimator-id-14\" type=\"checkbox\" checked><label for=\"sk-estimator-id-14\" class=\"sk-toggleable__label sk-toggleable__label-arrow\">LabelEncoder</label><div class=\"sk-toggleable__content\"><pre>LabelEncoder()</pre></div></div></div></div></div>"
            ]
          },
          "metadata": {},
          "execution_count": 232
        }
      ]
    },
    {
      "cell_type": "code",
      "source": [
        "encoded_groups = le.transform(df_ecoli.group.tolist())\n",
        "scaler = StandardScaler()\n",
        "scaled_encoded_groups = scaler.fit_transform(encoded_groups.reshape(-1, 1)).flatten()\n",
        "df_ecoli['group_enc'] = scaled_encoded_groups"
      ],
      "metadata": {
        "id": "CjYubiUyyu7Z"
      },
      "execution_count": null,
      "outputs": []
    },
    {
      "cell_type": "code",
      "execution_count": null,
      "metadata": {
        "id": "rX7cI-o4z4Hz"
      },
      "outputs": [],
      "source": [
        "# split data into predictor and target\n",
        "y1 = df_ecoli['lgMIC']#.apply(lambda x: -x)"
      ]
    },
    {
      "cell_type": "code",
      "source": [
        "fps = np.stack(df_ecoli.fp.tolist())\n",
        "gs = np.array(df_ecoli.group_enc).reshape(326, 1)\n",
        "X1 = np.hstack((fps, gs))"
      ],
      "metadata": {
        "id": "aZjZBb8x3ONp"
      },
      "execution_count": null,
      "outputs": []
    },
    {
      "cell_type": "code",
      "execution_count": null,
      "metadata": {
        "id": "Dxd3MjBCz4H0"
      },
      "outputs": [],
      "source": [
        "X1_train, X1_test, y1_train, y1_test = train_test_split(X1, y1, test_size=0.2, random_state=42, stratify=df_ecoli.group)"
      ]
    },
    {
      "cell_type": "code",
      "execution_count": null,
      "metadata": {
        "collapsed": true,
        "colab": {
          "base_uri": "https://localhost:8080/"
        },
        "id": "cg-mu0PDz4H0",
        "outputId": "264a8fad-a48d-4038-ae76-c128439ccb25"
      },
      "outputs": [
        {
          "output_type": "stream",
          "name": "stderr",
          "text": [
            "100%|██████████| 42/42 [00:27<00:00,  1.51it/s]\n"
          ]
        }
      ],
      "source": [
        "# obtain model results with Lazy Predict\n",
        "reg = LazyRegressor(verbose=-1, ignore_warnings=True, custom_metric=None)\n",
        "models, predictions = reg.fit(X1_train, X1_test, y1_train, y1_test)"
      ]
    },
    {
      "cell_type": "code",
      "source": [
        "models.tail(10)"
      ],
      "metadata": {
        "colab": {
          "base_uri": "https://localhost:8080/",
          "height": 394
        },
        "outputId": "a821d327-3caa-4d51-c8e1-778e74583e54",
        "id": "Z2ZVIuZKz4H0"
      },
      "execution_count": null,
      "outputs": [
        {
          "output_type": "execute_result",
          "data": {
            "text/plain": [
              "                               Adjusted R-Squared  R-Squared  RMSE  Time Taken\n",
              "Model                                                                         \n",
              "LassoCV                                      1.08       0.75  0.53        4.46\n",
              "ElasticNetCV                                 1.08       0.76  0.52        3.41\n",
              "OrthogonalMatchingPursuit                    1.08       0.76  0.52        0.05\n",
              "LGBMRegressor                                1.08       0.76  0.52        0.06\n",
              "BaggingRegressor                             1.08       0.76  0.51        0.08\n",
              "BayesianRidge                                1.08       0.76  0.51        0.06\n",
              "HistGradientBoostingRegressor                1.08       0.77  0.51        3.65\n",
              "RandomForestRegressor                        1.07       0.78  0.50        0.68\n",
              "GradientBoostingRegressor                    1.07       0.79  0.48        0.29\n",
              "XGBRegressor                                 1.07       0.80  0.47        0.21"
            ],
            "text/html": [
              "\n",
              "  <div id=\"df-bb56145c-7a19-40eb-9989-7801d3320bfa\" class=\"colab-df-container\">\n",
              "    <div>\n",
              "<style scoped>\n",
              "    .dataframe tbody tr th:only-of-type {\n",
              "        vertical-align: middle;\n",
              "    }\n",
              "\n",
              "    .dataframe tbody tr th {\n",
              "        vertical-align: top;\n",
              "    }\n",
              "\n",
              "    .dataframe thead th {\n",
              "        text-align: right;\n",
              "    }\n",
              "</style>\n",
              "<table border=\"1\" class=\"dataframe\">\n",
              "  <thead>\n",
              "    <tr style=\"text-align: right;\">\n",
              "      <th></th>\n",
              "      <th>Adjusted R-Squared</th>\n",
              "      <th>R-Squared</th>\n",
              "      <th>RMSE</th>\n",
              "      <th>Time Taken</th>\n",
              "    </tr>\n",
              "    <tr>\n",
              "      <th>Model</th>\n",
              "      <th></th>\n",
              "      <th></th>\n",
              "      <th></th>\n",
              "      <th></th>\n",
              "    </tr>\n",
              "  </thead>\n",
              "  <tbody>\n",
              "    <tr>\n",
              "      <th>LassoCV</th>\n",
              "      <td>1.08</td>\n",
              "      <td>0.75</td>\n",
              "      <td>0.53</td>\n",
              "      <td>4.46</td>\n",
              "    </tr>\n",
              "    <tr>\n",
              "      <th>ElasticNetCV</th>\n",
              "      <td>1.08</td>\n",
              "      <td>0.76</td>\n",
              "      <td>0.52</td>\n",
              "      <td>3.41</td>\n",
              "    </tr>\n",
              "    <tr>\n",
              "      <th>OrthogonalMatchingPursuit</th>\n",
              "      <td>1.08</td>\n",
              "      <td>0.76</td>\n",
              "      <td>0.52</td>\n",
              "      <td>0.05</td>\n",
              "    </tr>\n",
              "    <tr>\n",
              "      <th>LGBMRegressor</th>\n",
              "      <td>1.08</td>\n",
              "      <td>0.76</td>\n",
              "      <td>0.52</td>\n",
              "      <td>0.06</td>\n",
              "    </tr>\n",
              "    <tr>\n",
              "      <th>BaggingRegressor</th>\n",
              "      <td>1.08</td>\n",
              "      <td>0.76</td>\n",
              "      <td>0.51</td>\n",
              "      <td>0.08</td>\n",
              "    </tr>\n",
              "    <tr>\n",
              "      <th>BayesianRidge</th>\n",
              "      <td>1.08</td>\n",
              "      <td>0.76</td>\n",
              "      <td>0.51</td>\n",
              "      <td>0.06</td>\n",
              "    </tr>\n",
              "    <tr>\n",
              "      <th>HistGradientBoostingRegressor</th>\n",
              "      <td>1.08</td>\n",
              "      <td>0.77</td>\n",
              "      <td>0.51</td>\n",
              "      <td>3.65</td>\n",
              "    </tr>\n",
              "    <tr>\n",
              "      <th>RandomForestRegressor</th>\n",
              "      <td>1.07</td>\n",
              "      <td>0.78</td>\n",
              "      <td>0.50</td>\n",
              "      <td>0.68</td>\n",
              "    </tr>\n",
              "    <tr>\n",
              "      <th>GradientBoostingRegressor</th>\n",
              "      <td>1.07</td>\n",
              "      <td>0.79</td>\n",
              "      <td>0.48</td>\n",
              "      <td>0.29</td>\n",
              "    </tr>\n",
              "    <tr>\n",
              "      <th>XGBRegressor</th>\n",
              "      <td>1.07</td>\n",
              "      <td>0.80</td>\n",
              "      <td>0.47</td>\n",
              "      <td>0.21</td>\n",
              "    </tr>\n",
              "  </tbody>\n",
              "</table>\n",
              "</div>\n",
              "    <div class=\"colab-df-buttons\">\n",
              "\n",
              "  <div class=\"colab-df-container\">\n",
              "    <button class=\"colab-df-convert\" onclick=\"convertToInteractive('df-bb56145c-7a19-40eb-9989-7801d3320bfa')\"\n",
              "            title=\"Convert this dataframe to an interactive table.\"\n",
              "            style=\"display:none;\">\n",
              "\n",
              "  <svg xmlns=\"http://www.w3.org/2000/svg\" height=\"24px\" viewBox=\"0 -960 960 960\">\n",
              "    <path d=\"M120-120v-720h720v720H120Zm60-500h600v-160H180v160Zm220 220h160v-160H400v160Zm0 220h160v-160H400v160ZM180-400h160v-160H180v160Zm440 0h160v-160H620v160ZM180-180h160v-160H180v160Zm440 0h160v-160H620v160Z\"/>\n",
              "  </svg>\n",
              "    </button>\n",
              "\n",
              "  <style>\n",
              "    .colab-df-container {\n",
              "      display:flex;\n",
              "      gap: 12px;\n",
              "    }\n",
              "\n",
              "    .colab-df-convert {\n",
              "      background-color: #E8F0FE;\n",
              "      border: none;\n",
              "      border-radius: 50%;\n",
              "      cursor: pointer;\n",
              "      display: none;\n",
              "      fill: #1967D2;\n",
              "      height: 32px;\n",
              "      padding: 0 0 0 0;\n",
              "      width: 32px;\n",
              "    }\n",
              "\n",
              "    .colab-df-convert:hover {\n",
              "      background-color: #E2EBFA;\n",
              "      box-shadow: 0px 1px 2px rgba(60, 64, 67, 0.3), 0px 1px 3px 1px rgba(60, 64, 67, 0.15);\n",
              "      fill: #174EA6;\n",
              "    }\n",
              "\n",
              "    .colab-df-buttons div {\n",
              "      margin-bottom: 4px;\n",
              "    }\n",
              "\n",
              "    [theme=dark] .colab-df-convert {\n",
              "      background-color: #3B4455;\n",
              "      fill: #D2E3FC;\n",
              "    }\n",
              "\n",
              "    [theme=dark] .colab-df-convert:hover {\n",
              "      background-color: #434B5C;\n",
              "      box-shadow: 0px 1px 3px 1px rgba(0, 0, 0, 0.15);\n",
              "      filter: drop-shadow(0px 1px 2px rgba(0, 0, 0, 0.3));\n",
              "      fill: #FFFFFF;\n",
              "    }\n",
              "  </style>\n",
              "\n",
              "    <script>\n",
              "      const buttonEl =\n",
              "        document.querySelector('#df-bb56145c-7a19-40eb-9989-7801d3320bfa button.colab-df-convert');\n",
              "      buttonEl.style.display =\n",
              "        google.colab.kernel.accessAllowed ? 'block' : 'none';\n",
              "\n",
              "      async function convertToInteractive(key) {\n",
              "        const element = document.querySelector('#df-bb56145c-7a19-40eb-9989-7801d3320bfa');\n",
              "        const dataTable =\n",
              "          await google.colab.kernel.invokeFunction('convertToInteractive',\n",
              "                                                    [key], {});\n",
              "        if (!dataTable) return;\n",
              "\n",
              "        const docLinkHtml = 'Like what you see? Visit the ' +\n",
              "          '<a target=\"_blank\" href=https://colab.research.google.com/notebooks/data_table.ipynb>data table notebook</a>'\n",
              "          + ' to learn more about interactive tables.';\n",
              "        element.innerHTML = '';\n",
              "        dataTable['output_type'] = 'display_data';\n",
              "        await google.colab.output.renderOutput(dataTable, element);\n",
              "        const docLink = document.createElement('div');\n",
              "        docLink.innerHTML = docLinkHtml;\n",
              "        element.appendChild(docLink);\n",
              "      }\n",
              "    </script>\n",
              "  </div>\n",
              "\n",
              "\n",
              "<div id=\"df-c2e0be3b-fa56-4a2e-b5d8-02525419ad56\">\n",
              "  <button class=\"colab-df-quickchart\" onclick=\"quickchart('df-c2e0be3b-fa56-4a2e-b5d8-02525419ad56')\"\n",
              "            title=\"Suggest charts\"\n",
              "            style=\"display:none;\">\n",
              "\n",
              "<svg xmlns=\"http://www.w3.org/2000/svg\" height=\"24px\"viewBox=\"0 0 24 24\"\n",
              "     width=\"24px\">\n",
              "    <g>\n",
              "        <path d=\"M19 3H5c-1.1 0-2 .9-2 2v14c0 1.1.9 2 2 2h14c1.1 0 2-.9 2-2V5c0-1.1-.9-2-2-2zM9 17H7v-7h2v7zm4 0h-2V7h2v10zm4 0h-2v-4h2v4z\"/>\n",
              "    </g>\n",
              "</svg>\n",
              "  </button>\n",
              "\n",
              "<style>\n",
              "  .colab-df-quickchart {\n",
              "      --bg-color: #E8F0FE;\n",
              "      --fill-color: #1967D2;\n",
              "      --hover-bg-color: #E2EBFA;\n",
              "      --hover-fill-color: #174EA6;\n",
              "      --disabled-fill-color: #AAA;\n",
              "      --disabled-bg-color: #DDD;\n",
              "  }\n",
              "\n",
              "  [theme=dark] .colab-df-quickchart {\n",
              "      --bg-color: #3B4455;\n",
              "      --fill-color: #D2E3FC;\n",
              "      --hover-bg-color: #434B5C;\n",
              "      --hover-fill-color: #FFFFFF;\n",
              "      --disabled-bg-color: #3B4455;\n",
              "      --disabled-fill-color: #666;\n",
              "  }\n",
              "\n",
              "  .colab-df-quickchart {\n",
              "    background-color: var(--bg-color);\n",
              "    border: none;\n",
              "    border-radius: 50%;\n",
              "    cursor: pointer;\n",
              "    display: none;\n",
              "    fill: var(--fill-color);\n",
              "    height: 32px;\n",
              "    padding: 0;\n",
              "    width: 32px;\n",
              "  }\n",
              "\n",
              "  .colab-df-quickchart:hover {\n",
              "    background-color: var(--hover-bg-color);\n",
              "    box-shadow: 0 1px 2px rgba(60, 64, 67, 0.3), 0 1px 3px 1px rgba(60, 64, 67, 0.15);\n",
              "    fill: var(--button-hover-fill-color);\n",
              "  }\n",
              "\n",
              "  .colab-df-quickchart-complete:disabled,\n",
              "  .colab-df-quickchart-complete:disabled:hover {\n",
              "    background-color: var(--disabled-bg-color);\n",
              "    fill: var(--disabled-fill-color);\n",
              "    box-shadow: none;\n",
              "  }\n",
              "\n",
              "  .colab-df-spinner {\n",
              "    border: 2px solid var(--fill-color);\n",
              "    border-color: transparent;\n",
              "    border-bottom-color: var(--fill-color);\n",
              "    animation:\n",
              "      spin 1s steps(1) infinite;\n",
              "  }\n",
              "\n",
              "  @keyframes spin {\n",
              "    0% {\n",
              "      border-color: transparent;\n",
              "      border-bottom-color: var(--fill-color);\n",
              "      border-left-color: var(--fill-color);\n",
              "    }\n",
              "    20% {\n",
              "      border-color: transparent;\n",
              "      border-left-color: var(--fill-color);\n",
              "      border-top-color: var(--fill-color);\n",
              "    }\n",
              "    30% {\n",
              "      border-color: transparent;\n",
              "      border-left-color: var(--fill-color);\n",
              "      border-top-color: var(--fill-color);\n",
              "      border-right-color: var(--fill-color);\n",
              "    }\n",
              "    40% {\n",
              "      border-color: transparent;\n",
              "      border-right-color: var(--fill-color);\n",
              "      border-top-color: var(--fill-color);\n",
              "    }\n",
              "    60% {\n",
              "      border-color: transparent;\n",
              "      border-right-color: var(--fill-color);\n",
              "    }\n",
              "    80% {\n",
              "      border-color: transparent;\n",
              "      border-right-color: var(--fill-color);\n",
              "      border-bottom-color: var(--fill-color);\n",
              "    }\n",
              "    90% {\n",
              "      border-color: transparent;\n",
              "      border-bottom-color: var(--fill-color);\n",
              "    }\n",
              "  }\n",
              "</style>\n",
              "\n",
              "  <script>\n",
              "    async function quickchart(key) {\n",
              "      const quickchartButtonEl =\n",
              "        document.querySelector('#' + key + ' button');\n",
              "      quickchartButtonEl.disabled = true;  // To prevent multiple clicks.\n",
              "      quickchartButtonEl.classList.add('colab-df-spinner');\n",
              "      try {\n",
              "        const charts = await google.colab.kernel.invokeFunction(\n",
              "            'suggestCharts', [key], {});\n",
              "      } catch (error) {\n",
              "        console.error('Error during call to suggestCharts:', error);\n",
              "      }\n",
              "      quickchartButtonEl.classList.remove('colab-df-spinner');\n",
              "      quickchartButtonEl.classList.add('colab-df-quickchart-complete');\n",
              "    }\n",
              "    (() => {\n",
              "      let quickchartButtonEl =\n",
              "        document.querySelector('#df-c2e0be3b-fa56-4a2e-b5d8-02525419ad56 button');\n",
              "      quickchartButtonEl.style.display =\n",
              "        google.colab.kernel.accessAllowed ? 'block' : 'none';\n",
              "    })();\n",
              "  </script>\n",
              "</div>\n",
              "    </div>\n",
              "  </div>\n"
            ],
            "application/vnd.google.colaboratory.intrinsic+json": {
              "type": "dataframe",
              "summary": "{\n  \"name\": \"models\",\n  \"rows\": 10,\n  \"fields\": [\n    {\n      \"column\": \"Model\",\n      \"properties\": {\n        \"dtype\": \"string\",\n        \"num_unique_values\": 10,\n        \"samples\": [\n          \"GradientBoostingRegressor\",\n          \"ElasticNetCV\",\n          \"BayesianRidge\"\n        ],\n        \"semantic_type\": \"\",\n        \"description\": \"\"\n      }\n    },\n    {\n      \"column\": \"Adjusted R-Squared\",\n      \"properties\": {\n        \"dtype\": \"number\",\n        \"std\": 0.0050797164240900935,\n        \"min\": 1.0681701736358313,\n        \"max\": 1.0840021882391069,\n        \"num_unique_values\": 10,\n        \"samples\": [\n          1.0707390318464467,\n          1.0818257361749455,\n          1.0799017041954702\n        ],\n        \"semantic_type\": \"\",\n        \"description\": \"\"\n      }\n    },\n    {\n      \"column\": \"R-Squared\",\n      \"properties\": {\n        \"dtype\": \"number\",\n        \"std\": 0.015004700821927574,\n        \"min\": 0.7518704593552539,\n        \"max\": 0.798635794798775,\n        \"num_unique_values\": 10,\n        \"samples\": [\n          0.7910477828535727,\n          0.7582993639140072,\n          0.7639826583764575\n        ],\n        \"semantic_type\": \"\",\n        \"description\": \"\"\n      }\n    },\n    {\n      \"column\": \"RMSE\",\n      \"properties\": {\n        \"dtype\": \"number\",\n        \"std\": 0.016766754041019172,\n        \"min\": 0.47405444872407043,\n        \"max\": 0.5262308759362997,\n        \"num_unique_values\": 10,\n        \"samples\": [\n          0.4829037548076382,\n          0.5193689558728078,\n          0.5132264703434952\n        ],\n        \"semantic_type\": \"\",\n        \"description\": \"\"\n      }\n    },\n    {\n      \"column\": \"Time Taken\",\n      \"properties\": {\n        \"dtype\": \"number\",\n        \"std\": 1.7846535313165564,\n        \"min\": 0.04940390586853027,\n        \"max\": 4.460875988006592,\n        \"num_unique_values\": 10,\n        \"samples\": [\n          0.2876772880554199,\n          3.4061551094055176,\n          0.05776357650756836\n        ],\n        \"semantic_type\": \"\",\n        \"description\": \"\"\n      }\n    }\n  ]\n}"
            }
          },
          "metadata": {},
          "execution_count": 296
        }
      ]
    }
  ],
  "metadata": {
    "colab": {
      "provenance": []
    },
    "kernelspec": {
      "display_name": "Python 3",
      "name": "python3"
    },
    "language_info": {
      "name": "python"
    }
  },
  "nbformat": 4,
  "nbformat_minor": 0
}